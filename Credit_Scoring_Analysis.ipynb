{
  "nbformat": 4,
  "nbformat_minor": 0,
  "metadata": {
    "accelerator": "GPU",
    "colab": {
      "name": "Credit_Scoring_Analysis.ipynb",
      "provenance": []
    },
    "kernelspec": {
      "display_name": "Python 3",
      "language": "python",
      "name": "python3"
    },
    "language_info": {
      "codemirror_mode": {
        "name": "ipython",
        "version": 3
      },
      "file_extension": ".py",
      "mimetype": "text/x-python",
      "name": "python",
      "nbconvert_exporter": "python",
      "pygments_lexer": "ipython3",
      "version": "3.8.3"
    }
  },
  "cells": [
    {
      "cell_type": "markdown",
      "metadata": {
        "id": "nU7cB749q0uQ"
      },
      "source": [
        "## PROBLEM STATEMENT"
      ]
    },
    {
      "cell_type": "markdown",
      "metadata": {
        "id": "Q3hbO8E3q0uV"
      },
      "source": [
        "### 1.Business Understanding\n",
        "\n",
        "<ol>A company in kenya named Tokyo wants to offer loans to its customers.To do so they requested a data scientist to perform analysis of their data to determine the credit worthiness of a customer based on historical data features whether customer will default or not.</ol>\n",
        "\n",
        "<ol>In order to do that i got upto task to do credit scoring analysis.I used CRISP-DM -CROSS INDUSTRY STANDARD PROCESS FOR DATA MINING APPROACH</ol>\n",
        "\n",
        "<ol>Dataset contains 11 columns:\n",
        "    <ul>job category 0-non-skilled,1-slightly skilled,-2-skilled,3-highly skilled</ul></ol>"
      ]
    },
    {
      "cell_type": "code",
      "metadata": {
        "id": "P1u8_5Fvq0uX"
      },
      "source": [
        ""
      ],
      "execution_count": 1,
      "outputs": []
    },
    {
      "cell_type": "markdown",
      "metadata": {
        "id": "KZ7cp3DLq0ud"
      },
      "source": [
        "### 2.Data Understanding"
      ]
    },
    {
      "cell_type": "code",
      "metadata": {
        "id": "YNh3ZdROq0ue",
        "scrolled": false
      },
      "source": [
        "#importing required libraries\n",
        "import pandas as pd \n",
        "import numpy as np\n",
        "import matplotlib.pyplot as plt\n",
        "import seaborn as sns\n",
        "from sklearn.linear_model import LogisticRegression,LinearRegression\n",
        "from sklearn.tree import DecisionTreeClassifier\n",
        "from sklearn.cluster import KMeans\n",
        "from sklearn.neighbors import KNeighborsClassifier\n",
        "from sklearn.svm import SVC #SUPPORT VECTOR MACHINES\n",
        "from sklearn.naive_bayes import GaussianNB\n",
        "from sklearn.ensemble import RandomForestClassifier\n",
        "from sklearn.model_selection import train_test_split\n",
        "from sklearn.metrics import accuracy_score,mean_squared_error,mean_absolute_error,r2_score,recall_score,precision_score,confusion_matrix"
      ],
      "execution_count": 2,
      "outputs": []
    },
    {
      "cell_type": "code",
      "metadata": {
        "id": "07v5-aTvq0ui"
      },
      "source": [
        "#loading dataset\n",
        "df=pd.read_csv('german_credit_data (3).csv')"
      ],
      "execution_count": 3,
      "outputs": []
    },
    {
      "cell_type": "code",
      "metadata": {
        "id": "9oZ0c5ZHq0ul",
        "outputId": "128f393f-b3e7-4ab3-c567-2d359adb17e1",
        "colab": {
          "base_uri": "https://localhost:8080/",
          "height": 241
        }
      },
      "source": [
        "# previewing first 5 records\n",
        "df.head()"
      ],
      "execution_count": 4,
      "outputs": [
        {
          "output_type": "execute_result",
          "data": {
            "text/html": [
              "<div>\n",
              "<style scoped>\n",
              "    .dataframe tbody tr th:only-of-type {\n",
              "        vertical-align: middle;\n",
              "    }\n",
              "\n",
              "    .dataframe tbody tr th {\n",
              "        vertical-align: top;\n",
              "    }\n",
              "\n",
              "    .dataframe thead th {\n",
              "        text-align: right;\n",
              "    }\n",
              "</style>\n",
              "<table border=\"1\" class=\"dataframe\">\n",
              "  <thead>\n",
              "    <tr style=\"text-align: right;\">\n",
              "      <th></th>\n",
              "      <th>Unnamed: 0</th>\n",
              "      <th>Age</th>\n",
              "      <th>Sex</th>\n",
              "      <th>Job</th>\n",
              "      <th>Housing</th>\n",
              "      <th>Saving accounts</th>\n",
              "      <th>Checking account</th>\n",
              "      <th>Credit amount</th>\n",
              "      <th>Duration</th>\n",
              "      <th>Purpose</th>\n",
              "      <th>Risk</th>\n",
              "    </tr>\n",
              "  </thead>\n",
              "  <tbody>\n",
              "    <tr>\n",
              "      <th>0</th>\n",
              "      <td>0</td>\n",
              "      <td>67</td>\n",
              "      <td>male</td>\n",
              "      <td>2</td>\n",
              "      <td>own</td>\n",
              "      <td>NaN</td>\n",
              "      <td>little</td>\n",
              "      <td>1169</td>\n",
              "      <td>6</td>\n",
              "      <td>radio/TV</td>\n",
              "      <td>good</td>\n",
              "    </tr>\n",
              "    <tr>\n",
              "      <th>1</th>\n",
              "      <td>1</td>\n",
              "      <td>22</td>\n",
              "      <td>female</td>\n",
              "      <td>2</td>\n",
              "      <td>own</td>\n",
              "      <td>little</td>\n",
              "      <td>moderate</td>\n",
              "      <td>5951</td>\n",
              "      <td>48</td>\n",
              "      <td>radio/TV</td>\n",
              "      <td>bad</td>\n",
              "    </tr>\n",
              "    <tr>\n",
              "      <th>2</th>\n",
              "      <td>2</td>\n",
              "      <td>49</td>\n",
              "      <td>male</td>\n",
              "      <td>1</td>\n",
              "      <td>own</td>\n",
              "      <td>little</td>\n",
              "      <td>NaN</td>\n",
              "      <td>2096</td>\n",
              "      <td>12</td>\n",
              "      <td>education</td>\n",
              "      <td>good</td>\n",
              "    </tr>\n",
              "    <tr>\n",
              "      <th>3</th>\n",
              "      <td>3</td>\n",
              "      <td>45</td>\n",
              "      <td>male</td>\n",
              "      <td>2</td>\n",
              "      <td>free</td>\n",
              "      <td>little</td>\n",
              "      <td>little</td>\n",
              "      <td>7882</td>\n",
              "      <td>42</td>\n",
              "      <td>furniture/equipment</td>\n",
              "      <td>good</td>\n",
              "    </tr>\n",
              "    <tr>\n",
              "      <th>4</th>\n",
              "      <td>4</td>\n",
              "      <td>53</td>\n",
              "      <td>male</td>\n",
              "      <td>2</td>\n",
              "      <td>free</td>\n",
              "      <td>little</td>\n",
              "      <td>little</td>\n",
              "      <td>4870</td>\n",
              "      <td>24</td>\n",
              "      <td>car</td>\n",
              "      <td>bad</td>\n",
              "    </tr>\n",
              "  </tbody>\n",
              "</table>\n",
              "</div>"
            ],
            "text/plain": [
              "   Unnamed: 0  Age     Sex  ...  Duration              Purpose  Risk\n",
              "0           0   67    male  ...         6             radio/TV  good\n",
              "1           1   22  female  ...        48             radio/TV   bad\n",
              "2           2   49    male  ...        12            education  good\n",
              "3           3   45    male  ...        42  furniture/equipment  good\n",
              "4           4   53    male  ...        24                  car   bad\n",
              "\n",
              "[5 rows x 11 columns]"
            ]
          },
          "metadata": {
            "tags": []
          },
          "execution_count": 4
        }
      ]
    },
    {
      "cell_type": "code",
      "metadata": {
        "id": "-ALsreBLq0us",
        "outputId": "5ee9c5b4-aaa1-419e-a349-4b44e35703fd",
        "colab": {
          "base_uri": "https://localhost:8080/",
          "height": 241
        }
      },
      "source": [
        "# previewing last 5 records\n",
        "df.tail()"
      ],
      "execution_count": 5,
      "outputs": [
        {
          "output_type": "execute_result",
          "data": {
            "text/html": [
              "<div>\n",
              "<style scoped>\n",
              "    .dataframe tbody tr th:only-of-type {\n",
              "        vertical-align: middle;\n",
              "    }\n",
              "\n",
              "    .dataframe tbody tr th {\n",
              "        vertical-align: top;\n",
              "    }\n",
              "\n",
              "    .dataframe thead th {\n",
              "        text-align: right;\n",
              "    }\n",
              "</style>\n",
              "<table border=\"1\" class=\"dataframe\">\n",
              "  <thead>\n",
              "    <tr style=\"text-align: right;\">\n",
              "      <th></th>\n",
              "      <th>Unnamed: 0</th>\n",
              "      <th>Age</th>\n",
              "      <th>Sex</th>\n",
              "      <th>Job</th>\n",
              "      <th>Housing</th>\n",
              "      <th>Saving accounts</th>\n",
              "      <th>Checking account</th>\n",
              "      <th>Credit amount</th>\n",
              "      <th>Duration</th>\n",
              "      <th>Purpose</th>\n",
              "      <th>Risk</th>\n",
              "    </tr>\n",
              "  </thead>\n",
              "  <tbody>\n",
              "    <tr>\n",
              "      <th>995</th>\n",
              "      <td>995</td>\n",
              "      <td>31</td>\n",
              "      <td>female</td>\n",
              "      <td>1</td>\n",
              "      <td>own</td>\n",
              "      <td>little</td>\n",
              "      <td>NaN</td>\n",
              "      <td>1736</td>\n",
              "      <td>12</td>\n",
              "      <td>furniture/equipment</td>\n",
              "      <td>good</td>\n",
              "    </tr>\n",
              "    <tr>\n",
              "      <th>996</th>\n",
              "      <td>996</td>\n",
              "      <td>40</td>\n",
              "      <td>male</td>\n",
              "      <td>3</td>\n",
              "      <td>own</td>\n",
              "      <td>little</td>\n",
              "      <td>little</td>\n",
              "      <td>3857</td>\n",
              "      <td>30</td>\n",
              "      <td>car</td>\n",
              "      <td>good</td>\n",
              "    </tr>\n",
              "    <tr>\n",
              "      <th>997</th>\n",
              "      <td>997</td>\n",
              "      <td>38</td>\n",
              "      <td>male</td>\n",
              "      <td>2</td>\n",
              "      <td>own</td>\n",
              "      <td>little</td>\n",
              "      <td>NaN</td>\n",
              "      <td>804</td>\n",
              "      <td>12</td>\n",
              "      <td>radio/TV</td>\n",
              "      <td>good</td>\n",
              "    </tr>\n",
              "    <tr>\n",
              "      <th>998</th>\n",
              "      <td>998</td>\n",
              "      <td>23</td>\n",
              "      <td>male</td>\n",
              "      <td>2</td>\n",
              "      <td>free</td>\n",
              "      <td>little</td>\n",
              "      <td>little</td>\n",
              "      <td>1845</td>\n",
              "      <td>45</td>\n",
              "      <td>radio/TV</td>\n",
              "      <td>bad</td>\n",
              "    </tr>\n",
              "    <tr>\n",
              "      <th>999</th>\n",
              "      <td>999</td>\n",
              "      <td>27</td>\n",
              "      <td>male</td>\n",
              "      <td>2</td>\n",
              "      <td>own</td>\n",
              "      <td>moderate</td>\n",
              "      <td>moderate</td>\n",
              "      <td>4576</td>\n",
              "      <td>45</td>\n",
              "      <td>car</td>\n",
              "      <td>good</td>\n",
              "    </tr>\n",
              "  </tbody>\n",
              "</table>\n",
              "</div>"
            ],
            "text/plain": [
              "     Unnamed: 0  Age     Sex  ...  Duration              Purpose  Risk\n",
              "995         995   31  female  ...        12  furniture/equipment  good\n",
              "996         996   40    male  ...        30                  car  good\n",
              "997         997   38    male  ...        12             radio/TV  good\n",
              "998         998   23    male  ...        45             radio/TV   bad\n",
              "999         999   27    male  ...        45                  car  good\n",
              "\n",
              "[5 rows x 11 columns]"
            ]
          },
          "metadata": {
            "tags": []
          },
          "execution_count": 5
        }
      ]
    },
    {
      "cell_type": "code",
      "metadata": {
        "id": "D7frR22aq0uw",
        "outputId": "b6b7965a-d2e5-4b55-91f8-7123843b77df",
        "colab": {
          "base_uri": "https://localhost:8080/",
          "height": 117
        }
      },
      "source": [
        "#sampling data\n",
        "df.sample()"
      ],
      "execution_count": 6,
      "outputs": [
        {
          "output_type": "execute_result",
          "data": {
            "text/html": [
              "<div>\n",
              "<style scoped>\n",
              "    .dataframe tbody tr th:only-of-type {\n",
              "        vertical-align: middle;\n",
              "    }\n",
              "\n",
              "    .dataframe tbody tr th {\n",
              "        vertical-align: top;\n",
              "    }\n",
              "\n",
              "    .dataframe thead th {\n",
              "        text-align: right;\n",
              "    }\n",
              "</style>\n",
              "<table border=\"1\" class=\"dataframe\">\n",
              "  <thead>\n",
              "    <tr style=\"text-align: right;\">\n",
              "      <th></th>\n",
              "      <th>Unnamed: 0</th>\n",
              "      <th>Age</th>\n",
              "      <th>Sex</th>\n",
              "      <th>Job</th>\n",
              "      <th>Housing</th>\n",
              "      <th>Saving accounts</th>\n",
              "      <th>Checking account</th>\n",
              "      <th>Credit amount</th>\n",
              "      <th>Duration</th>\n",
              "      <th>Purpose</th>\n",
              "      <th>Risk</th>\n",
              "    </tr>\n",
              "  </thead>\n",
              "  <tbody>\n",
              "    <tr>\n",
              "      <th>660</th>\n",
              "      <td>660</td>\n",
              "      <td>23</td>\n",
              "      <td>male</td>\n",
              "      <td>2</td>\n",
              "      <td>rent</td>\n",
              "      <td>little</td>\n",
              "      <td>rich</td>\n",
              "      <td>1297</td>\n",
              "      <td>12</td>\n",
              "      <td>radio/TV</td>\n",
              "      <td>good</td>\n",
              "    </tr>\n",
              "  </tbody>\n",
              "</table>\n",
              "</div>"
            ],
            "text/plain": [
              "     Unnamed: 0  Age   Sex  Job  ... Credit amount Duration   Purpose  Risk\n",
              "660         660   23  male    2  ...          1297       12  radio/TV  good\n",
              "\n",
              "[1 rows x 11 columns]"
            ]
          },
          "metadata": {
            "tags": []
          },
          "execution_count": 6
        }
      ]
    },
    {
      "cell_type": "code",
      "metadata": {
        "id": "6aC0siZCq0u0",
        "outputId": "d02bcb85-f30b-4950-d053-fe95e171fc80",
        "colab": {
          "base_uri": "https://localhost:8080/",
          "height": 265
        }
      },
      "source": [
        "#previewing target variable\n",
        "df['Risk'].value_counts().plot(kind='pie',autopct='green')"
      ],
      "execution_count": 7,
      "outputs": [
        {
          "output_type": "execute_result",
          "data": {
            "text/plain": [
              "<matplotlib.axes._subplots.AxesSubplot at 0x7f129b1847b8>"
            ]
          },
          "metadata": {
            "tags": []
          },
          "execution_count": 7
        },
        {
          "output_type": "display_data",
          "data": {
            "image/png": "[encoded data removed]",
            "text/plain": [
              "<Figure size 432x288 with 1 Axes>"
            ]
          },
          "metadata": {
            "tags": []
          }
        }
      ]
    },
    {
      "cell_type": "code",
      "metadata": {
        "id": "K41GCWuUq0u4",
        "outputId": "93477160-5a69-4e0d-a4c6-443b6a9c6c90",
        "colab": {
          "base_uri": "https://localhost:8080/"
        }
      },
      "source": [
        "#checking information about data\n",
        "df.info()"
      ],
      "execution_count": 8,
      "outputs": [
        {
          "output_type": "stream",
          "text": [
            "<class 'pandas.core.frame.DataFrame'>\n",
            "RangeIndex: 1000 entries, 0 to 999\n",
            "Data columns (total 11 columns):\n",
            " #   Column            Non-Null Count  Dtype \n",
            "---  ------            --------------  ----- \n",
            " 0   Unnamed: 0        1000 non-null   int64 \n",
            " 1   Age               1000 non-null   int64 \n",
            " 2   Sex               1000 non-null   object\n",
            " 3   Job               1000 non-null   int64 \n",
            " 4   Housing           1000 non-null   object\n",
            " 5   Saving accounts   817 non-null    object\n",
            " 6   Checking account  606 non-null    object\n",
            " 7   Credit amount     1000 non-null   int64 \n",
            " 8   Duration          1000 non-null   int64 \n",
            " 9   Purpose           1000 non-null   object\n",
            " 10  Risk              1000 non-null   object\n",
            "dtypes: int64(5), object(6)\n",
            "memory usage: 86.1+ KB\n"
          ],
          "name": "stdout"
        }
      ]
    },
    {
      "cell_type": "code",
      "metadata": {
        "id": "GztOGaeKq0u9",
        "outputId": "9914e065-62f4-44a2-a207-b72b76bc2617",
        "colab": {
          "base_uri": "https://localhost:8080/"
        }
      },
      "source": [
        "#checking columns\n",
        "df.columns"
      ],
      "execution_count": 9,
      "outputs": [
        {
          "output_type": "execute_result",
          "data": {
            "text/plain": [
              "Index(['Unnamed: 0', 'Age', 'Sex', 'Job', 'Housing', 'Saving accounts',\n",
              "       'Checking account', 'Credit amount', 'Duration', 'Purpose', 'Risk'],\n",
              "      dtype='object')"
            ]
          },
          "metadata": {
            "tags": []
          },
          "execution_count": 9
        }
      ]
    },
    {
      "cell_type": "code",
      "metadata": {
        "id": "mYpzBPlBq0vB",
        "outputId": "6094d336-6e16-422f-e14b-7ab64a824802",
        "colab": {
          "base_uri": "https://localhost:8080/"
        }
      },
      "source": [
        "#cheking shape or number of record in the data\n",
        "df.shape"
      ],
      "execution_count": 10,
      "outputs": [
        {
          "output_type": "execute_result",
          "data": {
            "text/plain": [
              "(1000, 11)"
            ]
          },
          "metadata": {
            "tags": []
          },
          "execution_count": 10
        }
      ]
    },
    {
      "cell_type": "code",
      "metadata": {
        "id": "X9HX8IpOq0vE",
        "outputId": "3b5edf72-e405-4a22-dd54-e4c27e636769",
        "colab": {
          "base_uri": "https://localhost:8080/"
        }
      },
      "source": [
        "#checking datatypes of data\n",
        "df.dtypes"
      ],
      "execution_count": 11,
      "outputs": [
        {
          "output_type": "execute_result",
          "data": {
            "text/plain": [
              "Unnamed: 0           int64\n",
              "Age                  int64\n",
              "Sex                 object\n",
              "Job                  int64\n",
              "Housing             object\n",
              "Saving accounts     object\n",
              "Checking account    object\n",
              "Credit amount        int64\n",
              "Duration             int64\n",
              "Purpose             object\n",
              "Risk                object\n",
              "dtype: object"
            ]
          },
          "metadata": {
            "tags": []
          },
          "execution_count": 11
        }
      ]
    },
    {
      "cell_type": "code",
      "metadata": {
        "id": "5AcW6miEq0vI"
      },
      "source": [
        "#conver4ting column names intolower_case\n",
        "df.columns=df.columns.str.strip().str.lower().str.replace(' ', '_').str.replace('(', '').str.replace(')', '')"
      ],
      "execution_count": 12,
      "outputs": []
    },
    {
      "cell_type": "markdown",
      "metadata": {
        "id": "rbdhCy_-q0vL"
      },
      "source": [
        "## 3.Data Preparation and Analysis"
      ]
    },
    {
      "cell_type": "markdown",
      "metadata": {
        "id": "jKFnhPcCq0vM"
      },
      "source": [
        "### Data exploration and cleaning"
      ]
    },
    {
      "cell_type": "code",
      "metadata": {
        "id": "PXlUPrefq0vN",
        "outputId": "a8eb1c1d-0b1c-4017-eb40-1ceea4361c84",
        "colab": {
          "base_uri": "https://localhost:8080/"
        }
      },
      "source": [
        "#checking missing data\n",
        "df.isna().sum()"
      ],
      "execution_count": 13,
      "outputs": [
        {
          "output_type": "execute_result",
          "data": {
            "text/plain": [
              "unnamed:_0            0\n",
              "age                   0\n",
              "sex                   0\n",
              "job                   0\n",
              "housing               0\n",
              "saving_accounts     183\n",
              "checking_account    394\n",
              "credit_amount         0\n",
              "duration              0\n",
              "purpose               0\n",
              "risk                  0\n",
              "dtype: int64"
            ]
          },
          "metadata": {
            "tags": []
          },
          "execution_count": 13
        }
      ]
    },
    {
      "cell_type": "markdown",
      "metadata": {
        "id": "VxNQkFx5q0vR"
      },
      "source": [
        "obsv:There are mising valuea in savings and checking"
      ]
    },
    {
      "cell_type": "code",
      "metadata": {
        "id": "hhiaBFyjq0vS"
      },
      "source": [
        "# treating missing values with none to indicate no checking or saving account\n",
        "df['saving_accounts'].fillna('None',inplace=True)\n",
        "df['checking_account'].fillna('None',inplace=True)"
      ],
      "execution_count": 14,
      "outputs": []
    },
    {
      "cell_type": "code",
      "metadata": {
        "id": "AHss9AoZq0vW",
        "outputId": "5f2fd3ee-7b0a-4d55-a0d6-b6bd2aa2e4d9",
        "colab": {
          "base_uri": "https://localhost:8080/"
        }
      },
      "source": [
        "df.isna().sum()"
      ],
      "execution_count": 15,
      "outputs": [
        {
          "output_type": "execute_result",
          "data": {
            "text/plain": [
              "unnamed:_0          0\n",
              "age                 0\n",
              "sex                 0\n",
              "job                 0\n",
              "housing             0\n",
              "saving_accounts     0\n",
              "checking_account    0\n",
              "credit_amount       0\n",
              "duration            0\n",
              "purpose             0\n",
              "risk                0\n",
              "dtype: int64"
            ]
          },
          "metadata": {
            "tags": []
          },
          "execution_count": 15
        }
      ]
    },
    {
      "cell_type": "code",
      "metadata": {
        "id": "_7O6Xs8Cq0va"
      },
      "source": [
        "#we drop unwanted columns 'unnamed'\n",
        "df.drop(columns=['unnamed:_0'],axis=1,inplace=True)"
      ],
      "execution_count": 16,
      "outputs": []
    },
    {
      "cell_type": "code",
      "metadata": {
        "id": "oHrSCM_Jq0vd",
        "outputId": "015b162e-383e-4a96-ada9-4718a0cbdd69",
        "colab": {
          "base_uri": "https://localhost:8080/",
          "height": 224
        }
      },
      "source": [
        "df.head()"
      ],
      "execution_count": 17,
      "outputs": [
        {
          "output_type": "execute_result",
          "data": {
            "text/html": [
              "<div>\n",
              "<style scoped>\n",
              "    .dataframe tbody tr th:only-of-type {\n",
              "        vertical-align: middle;\n",
              "    }\n",
              "\n",
              "    .dataframe tbody tr th {\n",
              "        vertical-align: top;\n",
              "    }\n",
              "\n",
              "    .dataframe thead th {\n",
              "        text-align: right;\n",
              "    }\n",
              "</style>\n",
              "<table border=\"1\" class=\"dataframe\">\n",
              "  <thead>\n",
              "    <tr style=\"text-align: right;\">\n",
              "      <th></th>\n",
              "      <th>age</th>\n",
              "      <th>sex</th>\n",
              "      <th>job</th>\n",
              "      <th>housing</th>\n",
              "      <th>saving_accounts</th>\n",
              "      <th>checking_account</th>\n",
              "      <th>credit_amount</th>\n",
              "      <th>duration</th>\n",
              "      <th>purpose</th>\n",
              "      <th>risk</th>\n",
              "    </tr>\n",
              "  </thead>\n",
              "  <tbody>\n",
              "    <tr>\n",
              "      <th>0</th>\n",
              "      <td>67</td>\n",
              "      <td>male</td>\n",
              "      <td>2</td>\n",
              "      <td>own</td>\n",
              "      <td>None</td>\n",
              "      <td>little</td>\n",
              "      <td>1169</td>\n",
              "      <td>6</td>\n",
              "      <td>radio/TV</td>\n",
              "      <td>good</td>\n",
              "    </tr>\n",
              "    <tr>\n",
              "      <th>1</th>\n",
              "      <td>22</td>\n",
              "      <td>female</td>\n",
              "      <td>2</td>\n",
              "      <td>own</td>\n",
              "      <td>little</td>\n",
              "      <td>moderate</td>\n",
              "      <td>5951</td>\n",
              "      <td>48</td>\n",
              "      <td>radio/TV</td>\n",
              "      <td>bad</td>\n",
              "    </tr>\n",
              "    <tr>\n",
              "      <th>2</th>\n",
              "      <td>49</td>\n",
              "      <td>male</td>\n",
              "      <td>1</td>\n",
              "      <td>own</td>\n",
              "      <td>little</td>\n",
              "      <td>None</td>\n",
              "      <td>2096</td>\n",
              "      <td>12</td>\n",
              "      <td>education</td>\n",
              "      <td>good</td>\n",
              "    </tr>\n",
              "    <tr>\n",
              "      <th>3</th>\n",
              "      <td>45</td>\n",
              "      <td>male</td>\n",
              "      <td>2</td>\n",
              "      <td>free</td>\n",
              "      <td>little</td>\n",
              "      <td>little</td>\n",
              "      <td>7882</td>\n",
              "      <td>42</td>\n",
              "      <td>furniture/equipment</td>\n",
              "      <td>good</td>\n",
              "    </tr>\n",
              "    <tr>\n",
              "      <th>4</th>\n",
              "      <td>53</td>\n",
              "      <td>male</td>\n",
              "      <td>2</td>\n",
              "      <td>free</td>\n",
              "      <td>little</td>\n",
              "      <td>little</td>\n",
              "      <td>4870</td>\n",
              "      <td>24</td>\n",
              "      <td>car</td>\n",
              "      <td>bad</td>\n",
              "    </tr>\n",
              "  </tbody>\n",
              "</table>\n",
              "</div>"
            ],
            "text/plain": [
              "   age     sex  job housing  ... credit_amount duration              purpose  risk\n",
              "0   67    male    2     own  ...          1169        6             radio/TV  good\n",
              "1   22  female    2     own  ...          5951       48             radio/TV   bad\n",
              "2   49    male    1     own  ...          2096       12            education  good\n",
              "3   45    male    2    free  ...          7882       42  furniture/equipment  good\n",
              "4   53    male    2    free  ...          4870       24                  car   bad\n",
              "\n",
              "[5 rows x 10 columns]"
            ]
          },
          "metadata": {
            "tags": []
          },
          "execution_count": 17
        }
      ]
    },
    {
      "cell_type": "code",
      "metadata": {
        "id": "_YxaNMDeq0vg",
        "outputId": "546ead33-a834-4492-b226-1718e7940e59",
        "colab": {
          "base_uri": "https://localhost:8080/"
        }
      },
      "source": [
        "#checking duplicated values\n",
        "df.duplicated().any()"
      ],
      "execution_count": 18,
      "outputs": [
        {
          "output_type": "execute_result",
          "data": {
            "text/plain": [
              "False"
            ]
          },
          "metadata": {
            "tags": []
          },
          "execution_count": 18
        }
      ]
    },
    {
      "cell_type": "markdown",
      "metadata": {
        "id": "gzE9_FCCq0vj"
      },
      "source": [
        "###### no duplicates"
      ]
    },
    {
      "cell_type": "code",
      "metadata": {
        "id": "6A_QtoWnq0vk",
        "outputId": "113616a4-095c-47d1-de14-f0b482017aaa",
        "colab": {
          "base_uri": "https://localhost:8080/"
        }
      },
      "source": [
        "#checking unique values\n",
        "df.nunique()"
      ],
      "execution_count": 19,
      "outputs": [
        {
          "output_type": "execute_result",
          "data": {
            "text/plain": [
              "age                  53\n",
              "sex                   2\n",
              "job                   4\n",
              "housing               3\n",
              "saving_accounts       5\n",
              "checking_account      4\n",
              "credit_amount       921\n",
              "duration             33\n",
              "purpose               8\n",
              "risk                  2\n",
              "dtype: int64"
            ]
          },
          "metadata": {
            "tags": []
          },
          "execution_count": 19
        }
      ]
    },
    {
      "cell_type": "code",
      "metadata": {
        "id": "-YpXAPC6q0vn",
        "outputId": "d468b2b2-6d6a-4670-ca23-ee02d2037c86",
        "colab": {
          "base_uri": "https://localhost:8080/",
          "height": 343
        }
      },
      "source": [
        "#checking outliers\n",
        "plt.figure(figsize=(20,10))\n",
        "sns.boxplot(data=df)"
      ],
      "execution_count": 20,
      "outputs": [
        {
          "output_type": "execute_result",
          "data": {
            "text/plain": [
              "<matplotlib.axes._subplots.AxesSubplot at 0x7f1299c82940>"
            ]
          },
          "metadata": {
            "tags": []
          },
          "execution_count": 20
        },
        {
          "output_type": "display_data",
          "data": {
            "image/png": "[encoded data removed]",
            "text/plain": [
              "<Figure size 1440x720 with 1 Axes>"
            ]
          },
          "metadata": {
            "tags": [],
            "needs_background": "light"
          }
        }
      ]
    },
    {
      "cell_type": "markdown",
      "metadata": {
        "id": "5wrYYPNoq0vq"
      },
      "source": [
        "#### credit amount has outliers"
      ]
    },
    {
      "cell_type": "code",
      "metadata": {
        "id": "4FsC1vHDq0vr"
      },
      "source": [
        "#treating outliers\n",
        "#from scipy import stats\n",
        "#import numpy as np\n",
        "#z = np.abs(stats.zscore(df['credit amount']))\n",
        "#print(z)\n",
        "#threshold = 5\n",
        "#print(np.where(z > 5))"
      ],
      "execution_count": 21,
      "outputs": []
    },
    {
      "cell_type": "markdown",
      "metadata": {
        "id": "02FroDXPq0vu"
      },
      "source": [
        "## Univariate Analysis"
      ]
    },
    {
      "cell_type": "code",
      "metadata": {
        "id": "m1uHE1rWq0vu",
        "outputId": "d48e4dd6-92e1-42df-a044-9d7d7cff5131",
        "colab": {
          "base_uri": "https://localhost:8080/",
          "height": 297
        }
      },
      "source": [
        "#checking summary statistics for numericals\n",
        "df.describe()"
      ],
      "execution_count": 22,
      "outputs": [
        {
          "output_type": "execute_result",
          "data": {
            "text/html": [
              "<div>\n",
              "<style scoped>\n",
              "    .dataframe tbody tr th:only-of-type {\n",
              "        vertical-align: middle;\n",
              "    }\n",
              "\n",
              "    .dataframe tbody tr th {\n",
              "        vertical-align: top;\n",
              "    }\n",
              "\n",
              "    .dataframe thead th {\n",
              "        text-align: right;\n",
              "    }\n",
              "</style>\n",
              "<table border=\"1\" class=\"dataframe\">\n",
              "  <thead>\n",
              "    <tr style=\"text-align: right;\">\n",
              "      <th></th>\n",
              "      <th>age</th>\n",
              "      <th>job</th>\n",
              "      <th>credit_amount</th>\n",
              "      <th>duration</th>\n",
              "    </tr>\n",
              "  </thead>\n",
              "  <tbody>\n",
              "    <tr>\n",
              "      <th>count</th>\n",
              "      <td>1000.000000</td>\n",
              "      <td>1000.000000</td>\n",
              "      <td>1000.000000</td>\n",
              "      <td>1000.000000</td>\n",
              "    </tr>\n",
              "    <tr>\n",
              "      <th>mean</th>\n",
              "      <td>35.546000</td>\n",
              "      <td>1.904000</td>\n",
              "      <td>3271.258000</td>\n",
              "      <td>20.903000</td>\n",
              "    </tr>\n",
              "    <tr>\n",
              "      <th>std</th>\n",
              "      <td>11.375469</td>\n",
              "      <td>0.653614</td>\n",
              "      <td>2822.736876</td>\n",
              "      <td>12.058814</td>\n",
              "    </tr>\n",
              "    <tr>\n",
              "      <th>min</th>\n",
              "      <td>19.000000</td>\n",
              "      <td>0.000000</td>\n",
              "      <td>250.000000</td>\n",
              "      <td>4.000000</td>\n",
              "    </tr>\n",
              "    <tr>\n",
              "      <th>25%</th>\n",
              "      <td>27.000000</td>\n",
              "      <td>2.000000</td>\n",
              "      <td>1365.500000</td>\n",
              "      <td>12.000000</td>\n",
              "    </tr>\n",
              "    <tr>\n",
              "      <th>50%</th>\n",
              "      <td>33.000000</td>\n",
              "      <td>2.000000</td>\n",
              "      <td>2319.500000</td>\n",
              "      <td>18.000000</td>\n",
              "    </tr>\n",
              "    <tr>\n",
              "      <th>75%</th>\n",
              "      <td>42.000000</td>\n",
              "      <td>2.000000</td>\n",
              "      <td>3972.250000</td>\n",
              "      <td>24.000000</td>\n",
              "    </tr>\n",
              "    <tr>\n",
              "      <th>max</th>\n",
              "      <td>75.000000</td>\n",
              "      <td>3.000000</td>\n",
              "      <td>18424.000000</td>\n",
              "      <td>72.000000</td>\n",
              "    </tr>\n",
              "  </tbody>\n",
              "</table>\n",
              "</div>"
            ],
            "text/plain": [
              "               age          job  credit_amount     duration\n",
              "count  1000.000000  1000.000000    1000.000000  1000.000000\n",
              "mean     35.546000     1.904000    3271.258000    20.903000\n",
              "std      11.375469     0.653614    2822.736876    12.058814\n",
              "min      19.000000     0.000000     250.000000     4.000000\n",
              "25%      27.000000     2.000000    1365.500000    12.000000\n",
              "50%      33.000000     2.000000    2319.500000    18.000000\n",
              "75%      42.000000     2.000000    3972.250000    24.000000\n",
              "max      75.000000     3.000000   18424.000000    72.000000"
            ]
          },
          "metadata": {
            "tags": []
          },
          "execution_count": 22
        }
      ]
    },
    {
      "cell_type": "code",
      "metadata": {
        "id": "idKxcVbNq0vy",
        "outputId": "35e4e95b-032b-4560-c9d2-38a40e160832",
        "colab": {
          "base_uri": "https://localhost:8080/",
          "height": 410
        }
      },
      "source": [
        "#checking summary statistics for numericals and non-numeric vales\n",
        "df.describe(include='all')"
      ],
      "execution_count": 23,
      "outputs": [
        {
          "output_type": "execute_result",
          "data": {
            "text/html": [
              "<div>\n",
              "<style scoped>\n",
              "    .dataframe tbody tr th:only-of-type {\n",
              "        vertical-align: middle;\n",
              "    }\n",
              "\n",
              "    .dataframe tbody tr th {\n",
              "        vertical-align: top;\n",
              "    }\n",
              "\n",
              "    .dataframe thead th {\n",
              "        text-align: right;\n",
              "    }\n",
              "</style>\n",
              "<table border=\"1\" class=\"dataframe\">\n",
              "  <thead>\n",
              "    <tr style=\"text-align: right;\">\n",
              "      <th></th>\n",
              "      <th>age</th>\n",
              "      <th>sex</th>\n",
              "      <th>job</th>\n",
              "      <th>housing</th>\n",
              "      <th>saving_accounts</th>\n",
              "      <th>checking_account</th>\n",
              "      <th>credit_amount</th>\n",
              "      <th>duration</th>\n",
              "      <th>purpose</th>\n",
              "      <th>risk</th>\n",
              "    </tr>\n",
              "  </thead>\n",
              "  <tbody>\n",
              "    <tr>\n",
              "      <th>count</th>\n",
              "      <td>1000.000000</td>\n",
              "      <td>1000</td>\n",
              "      <td>1000.000000</td>\n",
              "      <td>1000</td>\n",
              "      <td>1000</td>\n",
              "      <td>1000</td>\n",
              "      <td>1000.000000</td>\n",
              "      <td>1000.000000</td>\n",
              "      <td>1000</td>\n",
              "      <td>1000</td>\n",
              "    </tr>\n",
              "    <tr>\n",
              "      <th>unique</th>\n",
              "      <td>NaN</td>\n",
              "      <td>2</td>\n",
              "      <td>NaN</td>\n",
              "      <td>3</td>\n",
              "      <td>5</td>\n",
              "      <td>4</td>\n",
              "      <td>NaN</td>\n",
              "      <td>NaN</td>\n",
              "      <td>8</td>\n",
              "      <td>2</td>\n",
              "    </tr>\n",
              "    <tr>\n",
              "      <th>top</th>\n",
              "      <td>NaN</td>\n",
              "      <td>male</td>\n",
              "      <td>NaN</td>\n",
              "      <td>own</td>\n",
              "      <td>little</td>\n",
              "      <td>None</td>\n",
              "      <td>NaN</td>\n",
              "      <td>NaN</td>\n",
              "      <td>car</td>\n",
              "      <td>good</td>\n",
              "    </tr>\n",
              "    <tr>\n",
              "      <th>freq</th>\n",
              "      <td>NaN</td>\n",
              "      <td>690</td>\n",
              "      <td>NaN</td>\n",
              "      <td>713</td>\n",
              "      <td>603</td>\n",
              "      <td>394</td>\n",
              "      <td>NaN</td>\n",
              "      <td>NaN</td>\n",
              "      <td>337</td>\n",
              "      <td>700</td>\n",
              "    </tr>\n",
              "    <tr>\n",
              "      <th>mean</th>\n",
              "      <td>35.546000</td>\n",
              "      <td>NaN</td>\n",
              "      <td>1.904000</td>\n",
              "      <td>NaN</td>\n",
              "      <td>NaN</td>\n",
              "      <td>NaN</td>\n",
              "      <td>3271.258000</td>\n",
              "      <td>20.903000</td>\n",
              "      <td>NaN</td>\n",
              "      <td>NaN</td>\n",
              "    </tr>\n",
              "    <tr>\n",
              "      <th>std</th>\n",
              "      <td>11.375469</td>\n",
              "      <td>NaN</td>\n",
              "      <td>0.653614</td>\n",
              "      <td>NaN</td>\n",
              "      <td>NaN</td>\n",
              "      <td>NaN</td>\n",
              "      <td>2822.736876</td>\n",
              "      <td>12.058814</td>\n",
              "      <td>NaN</td>\n",
              "      <td>NaN</td>\n",
              "    </tr>\n",
              "    <tr>\n",
              "      <th>min</th>\n",
              "      <td>19.000000</td>\n",
              "      <td>NaN</td>\n",
              "      <td>0.000000</td>\n",
              "      <td>NaN</td>\n",
              "      <td>NaN</td>\n",
              "      <td>NaN</td>\n",
              "      <td>250.000000</td>\n",
              "      <td>4.000000</td>\n",
              "      <td>NaN</td>\n",
              "      <td>NaN</td>\n",
              "    </tr>\n",
              "    <tr>\n",
              "      <th>25%</th>\n",
              "      <td>27.000000</td>\n",
              "      <td>NaN</td>\n",
              "      <td>2.000000</td>\n",
              "      <td>NaN</td>\n",
              "      <td>NaN</td>\n",
              "      <td>NaN</td>\n",
              "      <td>1365.500000</td>\n",
              "      <td>12.000000</td>\n",
              "      <td>NaN</td>\n",
              "      <td>NaN</td>\n",
              "    </tr>\n",
              "    <tr>\n",
              "      <th>50%</th>\n",
              "      <td>33.000000</td>\n",
              "      <td>NaN</td>\n",
              "      <td>2.000000</td>\n",
              "      <td>NaN</td>\n",
              "      <td>NaN</td>\n",
              "      <td>NaN</td>\n",
              "      <td>2319.500000</td>\n",
              "      <td>18.000000</td>\n",
              "      <td>NaN</td>\n",
              "      <td>NaN</td>\n",
              "    </tr>\n",
              "    <tr>\n",
              "      <th>75%</th>\n",
              "      <td>42.000000</td>\n",
              "      <td>NaN</td>\n",
              "      <td>2.000000</td>\n",
              "      <td>NaN</td>\n",
              "      <td>NaN</td>\n",
              "      <td>NaN</td>\n",
              "      <td>3972.250000</td>\n",
              "      <td>24.000000</td>\n",
              "      <td>NaN</td>\n",
              "      <td>NaN</td>\n",
              "    </tr>\n",
              "    <tr>\n",
              "      <th>max</th>\n",
              "      <td>75.000000</td>\n",
              "      <td>NaN</td>\n",
              "      <td>3.000000</td>\n",
              "      <td>NaN</td>\n",
              "      <td>NaN</td>\n",
              "      <td>NaN</td>\n",
              "      <td>18424.000000</td>\n",
              "      <td>72.000000</td>\n",
              "      <td>NaN</td>\n",
              "      <td>NaN</td>\n",
              "    </tr>\n",
              "  </tbody>\n",
              "</table>\n",
              "</div>"
            ],
            "text/plain": [
              "                age   sex          job  ...     duration purpose  risk\n",
              "count   1000.000000  1000  1000.000000  ...  1000.000000    1000  1000\n",
              "unique          NaN     2          NaN  ...          NaN       8     2\n",
              "top             NaN  male          NaN  ...          NaN     car  good\n",
              "freq            NaN   690          NaN  ...          NaN     337   700\n",
              "mean      35.546000   NaN     1.904000  ...    20.903000     NaN   NaN\n",
              "std       11.375469   NaN     0.653614  ...    12.058814     NaN   NaN\n",
              "min       19.000000   NaN     0.000000  ...     4.000000     NaN   NaN\n",
              "25%       27.000000   NaN     2.000000  ...    12.000000     NaN   NaN\n",
              "50%       33.000000   NaN     2.000000  ...    18.000000     NaN   NaN\n",
              "75%       42.000000   NaN     2.000000  ...    24.000000     NaN   NaN\n",
              "max       75.000000   NaN     3.000000  ...    72.000000     NaN   NaN\n",
              "\n",
              "[11 rows x 10 columns]"
            ]
          },
          "metadata": {
            "tags": []
          },
          "execution_count": 23
        }
      ]
    },
    {
      "cell_type": "code",
      "metadata": {
        "id": "kcoZT-zDq0wA",
        "outputId": "cf632107-96e1-4b6c-b2ee-9ad01d70f0c1",
        "colab": {
          "base_uri": "https://localhost:8080/",
          "height": 482
        }
      },
      "source": [
        "#performing correlation between diffrent varaibles\n",
        "corr=df.corr()\n",
        "plt.figure(figsize=(12,8))\n",
        "sns.heatmap(corr,annot=True,cmap='gist_rainbow',vmin=-1,vmax=1)"
      ],
      "execution_count": 24,
      "outputs": [
        {
          "output_type": "execute_result",
          "data": {
            "text/plain": [
              "<matplotlib.axes._subplots.AxesSubplot at 0x7f1299bd9278>"
            ]
          },
          "metadata": {
            "tags": []
          },
          "execution_count": 24
        },
        {
          "output_type": "display_data",
          "data": {
            "image/png": "[encoded data removed]",
            "text/plain": [
              "<Figure size 864x576 with 2 Axes>"
            ]
          },
          "metadata": {
            "tags": [],
            "needs_background": "light"
          }
        }
      ]
    },
    {
      "cell_type": "markdown",
      "metadata": {
        "id": "NPBrRqoKq0wF"
      },
      "source": [
        " credit amount and duration has highest correlaion hencestrongly vorrelated"
      ]
    },
    {
      "cell_type": "code",
      "metadata": {
        "id": "_HxGgm29q0wG",
        "outputId": "ed0a5b9e-0b8c-4338-e38e-617566aae61a",
        "colab": {
          "base_uri": "https://localhost:8080/",
          "height": 352
        }
      },
      "source": [
        "# age\n",
        "sns.distplot(df['age'])"
      ],
      "execution_count": 25,
      "outputs": [
        {
          "output_type": "stream",
          "text": [
            "/usr/local/lib/python3.6/dist-packages/seaborn/distributions.py:2551: FutureWarning: `distplot` is a deprecated function and will be removed in a future version. Please adapt your code to use either `displot` (a figure-level function with similar flexibility) or `histplot` (an axes-level function for histograms).\n",
            "  warnings.warn(msg, FutureWarning)\n"
          ],
          "name": "stderr"
        },
        {
          "output_type": "execute_result",
          "data": {
            "text/plain": [
              "<matplotlib.axes._subplots.AxesSubplot at 0x7f12972b9320>"
            ]
          },
          "metadata": {
            "tags": []
          },
          "execution_count": 25
        },
        {
          "output_type": "display_data",
          "data": {
            "image/png": "[encoded data removed]",
            "text/plain": [
              "<Figure size 432x288 with 1 Axes>"
            ]
          },
          "metadata": {
            "tags": [],
            "needs_background": "light"
          }
        }
      ]
    },
    {
      "cell_type": "code",
      "metadata": {
        "id": "-C3HQqtzq0wK",
        "outputId": "b5d37d25-0130-4641-9ed9-84048a824761",
        "colab": {
          "base_uri": "https://localhost:8080/",
          "height": 662
        }
      },
      "source": [
        "sns.pairplot(df)"
      ],
      "execution_count": 26,
      "outputs": [
        {
          "output_type": "execute_result",
          "data": {
            "text/plain": [
              "<seaborn.axisgrid.PairGrid at 0x7f12ab9987f0>"
            ]
          },
          "metadata": {
            "tags": []
          },
          "execution_count": 26
        },
        {
          "output_type": "display_data",
          "data": {
            "image/png": "[encoded data removed]",
            "text/plain": [
              "<Figure size 720x720 with 20 Axes>"
            ]
          },
          "metadata": {
            "tags": [],
            "needs_background": "light"
          }
        }
      ]
    },
    {
      "cell_type": "code",
      "metadata": {
        "id": "NhdXrwCcq0wR",
        "outputId": "5dbc5ebd-a165-4e0c-9b56-8f9ee192a119",
        "colab": {
          "base_uri": "https://localhost:8080/",
          "height": 304
        }
      },
      "source": [
        "#gender\n",
        "df['sex'].value_counts().plot(kind='bar',color={'black','green'},rot=45)"
      ],
      "execution_count": 27,
      "outputs": [
        {
          "output_type": "execute_result",
          "data": {
            "text/plain": [
              "<matplotlib.axes._subplots.AxesSubplot at 0x7f1296ad87b8>"
            ]
          },
          "metadata": {
            "tags": []
          },
          "execution_count": 27
        },
        {
          "output_type": "display_data",
          "data": {
            "image/png": "[encoded data removed]",
            "text/plain": [
              "<Figure size 432x288 with 1 Axes>"
            ]
          },
          "metadata": {
            "tags": [],
            "needs_background": "light"
          }
        }
      ]
    },
    {
      "cell_type": "markdown",
      "metadata": {
        "id": "ANJAN8g6q0wY"
      },
      "source": [
        "#### male gender is higher in the company"
      ]
    },
    {
      "cell_type": "code",
      "metadata": {
        "id": "NUFVz3AFq0wa",
        "outputId": "5e823c57-f865-4e82-e6d2-4a8d71b375fd",
        "colab": {
          "base_uri": "https://localhost:8080/",
          "height": 282
        }
      },
      "source": [
        "#job\n",
        "df['job'].value_counts().plot(kind='bar',color={'black','green','red'},rot=0)"
      ],
      "execution_count": 28,
      "outputs": [
        {
          "output_type": "execute_result",
          "data": {
            "text/plain": [
              "<matplotlib.axes._subplots.AxesSubplot at 0x7f1296a86a90>"
            ]
          },
          "metadata": {
            "tags": []
          },
          "execution_count": 28
        },
        {
          "output_type": "display_data",
          "data": {
            "image/png": "[encoded data removed]",
            "text/plain": [
              "<Figure size 432x288 with 1 Axes>"
            ]
          },
          "metadata": {
            "tags": [],
            "needs_background": "light"
          }
        }
      ]
    },
    {
      "cell_type": "markdown",
      "metadata": {
        "id": "kXppdAGFq0wl"
      },
      "source": [
        "#### most customers are skilled based on our analysis"
      ]
    },
    {
      "cell_type": "code",
      "metadata": {
        "id": "ZSNfo_s4q0wm",
        "outputId": "fe718c0c-bfd4-4a39-9004-3a3c4917821b",
        "colab": {
          "base_uri": "https://localhost:8080/",
          "height": 282
        }
      },
      "source": [
        "#housing\n",
        "df['housing'].value_counts().plot(kind='bar',color={'black','green','red'},rot=0)"
      ],
      "execution_count": 29,
      "outputs": [
        {
          "output_type": "execute_result",
          "data": {
            "text/plain": [
              "<matplotlib.axes._subplots.AxesSubplot at 0x7f12951f1048>"
            ]
          },
          "metadata": {
            "tags": []
          },
          "execution_count": 29
        },
        {
          "output_type": "display_data",
          "data": {
            "image/png": "[encoded data removed]",
            "text/plain": [
              "<Figure size 432x288 with 1 Axes>"
            ]
          },
          "metadata": {
            "tags": [],
            "needs_background": "light"
          }
        }
      ]
    },
    {
      "cell_type": "markdown",
      "metadata": {
        "id": "zBHdMItSq0wy"
      },
      "source": [
        "#### Most customers own their houses"
      ]
    },
    {
      "cell_type": "code",
      "metadata": {
        "id": "-WQeRJkmq0wz",
        "outputId": "e213cc1d-47a1-4e37-c611-2d2cf9e94be4",
        "colab": {
          "base_uri": "https://localhost:8080/",
          "height": 346
        }
      },
      "source": [
        "#puropse of loan\n",
        "plt.figure(figsize=(20,10))\n",
        "df['purpose'].value_counts().plot(kind='bar',color={'black','green','red'},rot=0)"
      ],
      "execution_count": 30,
      "outputs": [
        {
          "output_type": "execute_result",
          "data": {
            "text/plain": [
              "<matplotlib.axes._subplots.AxesSubplot at 0x7f129515bc18>"
            ]
          },
          "metadata": {
            "tags": []
          },
          "execution_count": 30
        },
        {
          "output_type": "display_data",
          "data": {
            "image/png": "[encoded data removed]",
            "text/plain": [
              "<Figure size 1440x720 with 1 Axes>"
            ]
          },
          "metadata": {
            "tags": [],
            "needs_background": "light"
          }
        }
      ]
    },
    {
      "cell_type": "markdown",
      "metadata": {
        "id": "06-mDdoKq0w2"
      },
      "source": [
        "#### based on our analysis most customers apply loans to buy cars"
      ]
    },
    {
      "cell_type": "code",
      "metadata": {
        "id": "gUKjSfw3q0w2",
        "outputId": "a1a96d09-46ac-4a82-978b-cf3a8eb96c1d",
        "colab": {
          "base_uri": "https://localhost:8080/",
          "height": 346
        }
      },
      "source": [
        "#saving accounts\n",
        "plt.figure(figsize=(20,10))\n",
        "df['saving_accounts'].value_counts().plot(kind='bar',color={'black','green','red'},rot=0)"
      ],
      "execution_count": 31,
      "outputs": [
        {
          "output_type": "execute_result",
          "data": {
            "text/plain": [
              "<matplotlib.axes._subplots.AxesSubplot at 0x7f129511d6d8>"
            ]
          },
          "metadata": {
            "tags": []
          },
          "execution_count": 31
        },
        {
          "output_type": "display_data",
          "data": {
            "image/png": "[encoded data removed]",
            "text/plain": [
              "<Figure size 1440x720 with 1 Axes>"
            ]
          },
          "metadata": {
            "tags": [],
            "needs_background": "light"
          }
        }
      ]
    },
    {
      "cell_type": "code",
      "metadata": {
        "id": "QiIWtyMgq0w8",
        "outputId": "72d0564b-f3ac-4871-a019-e99f6db8c4f0",
        "colab": {
          "base_uri": "https://localhost:8080/",
          "height": 350
        }
      },
      "source": [
        "#duration of loan payment\n",
        "sns.distplot(df['duration'])"
      ],
      "execution_count": 32,
      "outputs": [
        {
          "output_type": "stream",
          "text": [
            "/usr/local/lib/python3.6/dist-packages/seaborn/distributions.py:2551: FutureWarning: `distplot` is a deprecated function and will be removed in a future version. Please adapt your code to use either `displot` (a figure-level function with similar flexibility) or `histplot` (an axes-level function for histograms).\n",
            "  warnings.warn(msg, FutureWarning)\n"
          ],
          "name": "stderr"
        },
        {
          "output_type": "execute_result",
          "data": {
            "text/plain": [
              "<matplotlib.axes._subplots.AxesSubplot at 0x7f129514d668>"
            ]
          },
          "metadata": {
            "tags": []
          },
          "execution_count": 32
        },
        {
          "output_type": "display_data",
          "data": {
            "image/png": "[encoded data removed]",
            "text/plain": [
              "<Figure size 432x288 with 1 Axes>"
            ]
          },
          "metadata": {
            "tags": [],
            "needs_background": "light"
          }
        }
      ]
    },
    {
      "cell_type": "markdown",
      "metadata": {
        "id": "Tu-6SUbvq0w_"
      },
      "source": [
        "### most customers like to pay between 13-20 months"
      ]
    },
    {
      "cell_type": "code",
      "metadata": {
        "id": "hvZJ7tnoq0xA",
        "outputId": "d81ae8a0-f16d-4efd-cbb0-72fb53ba3650",
        "colab": {
          "base_uri": "https://localhost:8080/",
          "height": 346
        }
      },
      "source": [
        "#checking accounts\n",
        "plt.figure(figsize=(20,10))\n",
        "df['checking_account'].value_counts().plot(kind='bar',color={'black','green','red'},rot=0)"
      ],
      "execution_count": 33,
      "outputs": [
        {
          "output_type": "execute_result",
          "data": {
            "text/plain": [
              "<matplotlib.axes._subplots.AxesSubplot at 0x7f12950049b0>"
            ]
          },
          "metadata": {
            "tags": []
          },
          "execution_count": 33
        },
        {
          "output_type": "display_data",
          "data": {
            "image/png": "[encoded data removed]",
            "text/plain": [
              "<Figure size 1440x720 with 1 Axes>"
            ]
          },
          "metadata": {
            "tags": [],
            "needs_background": "light"
          }
        }
      ]
    },
    {
      "cell_type": "markdown",
      "metadata": {
        "id": "rxO0IPH6q0xD"
      },
      "source": [
        "#### Those who dont have account account for higher percentage"
      ]
    },
    {
      "cell_type": "code",
      "metadata": {
        "id": "4qAmj3hzq0xD",
        "outputId": "de77f64c-a987-4a01-8a92-350428621779",
        "colab": {
          "base_uri": "https://localhost:8080/",
          "height": 351
        }
      },
      "source": [
        "sns.distplot(df['credit_amount'])"
      ],
      "execution_count": 34,
      "outputs": [
        {
          "output_type": "stream",
          "text": [
            "/usr/local/lib/python3.6/dist-packages/seaborn/distributions.py:2551: FutureWarning: `distplot` is a deprecated function and will be removed in a future version. Please adapt your code to use either `displot` (a figure-level function with similar flexibility) or `histplot` (an axes-level function for histograms).\n",
            "  warnings.warn(msg, FutureWarning)\n"
          ],
          "name": "stderr"
        },
        {
          "output_type": "execute_result",
          "data": {
            "text/plain": [
              "<matplotlib.axes._subplots.AxesSubplot at 0x7f1295074518>"
            ]
          },
          "metadata": {
            "tags": []
          },
          "execution_count": 34
        },
        {
          "output_type": "display_data",
          "data": {
            "image/png": "[encoded data removed]",
            "text/plain": [
              "<Figure size 432x288 with 1 Axes>"
            ]
          },
          "metadata": {
            "tags": [],
            "needs_background": "light"
          }
        }
      ]
    },
    {
      "cell_type": "markdown",
      "metadata": {
        "id": "uD0fEK2mq0xG"
      },
      "source": [
        "## Bivarate Analysis With Target Variable"
      ]
    },
    {
      "cell_type": "code",
      "metadata": {
        "id": "XCQHiJDqq0xG",
        "outputId": "c2821d5c-5962-4693-e581-b91ec6d55dfe",
        "colab": {
          "base_uri": "https://localhost:8080/",
          "height": 350
        }
      },
      "source": [
        "#sex and risk\n",
        "sns.countplot(df['sex'],hue='risk',data=df)"
      ],
      "execution_count": 35,
      "outputs": [
        {
          "output_type": "stream",
          "text": [
            "/usr/local/lib/python3.6/dist-packages/seaborn/_decorators.py:43: FutureWarning: Pass the following variable as a keyword arg: x. From version 0.12, the only valid positional argument will be `data`, and passing other arguments without an explicit keyword will result in an error or misinterpretation.\n",
            "  FutureWarning\n"
          ],
          "name": "stderr"
        },
        {
          "output_type": "execute_result",
          "data": {
            "text/plain": [
              "<matplotlib.axes._subplots.AxesSubplot at 0x7f1294eace80>"
            ]
          },
          "metadata": {
            "tags": []
          },
          "execution_count": 35
        },
        {
          "output_type": "display_data",
          "data": {
            "image/png": "[encoded data removed]",
            "text/plain": [
              "<Figure size 432x288 with 1 Axes>"
            ]
          },
          "metadata": {
            "tags": [],
            "needs_background": "light"
          }
        }
      ]
    },
    {
      "cell_type": "markdown",
      "metadata": {
        "id": "B3Ch7bcAq0xJ"
      },
      "source": [
        "#### obs:we cant say which gender will default or not"
      ]
    },
    {
      "cell_type": "code",
      "metadata": {
        "id": "DOgYRmWoq0xK",
        "outputId": "504d6d56-b284-4c4f-d793-7ec3aa81cc08",
        "colab": {
          "base_uri": "https://localhost:8080/",
          "height": 350
        }
      },
      "source": [
        "#job and risk\n",
        "sns.countplot(df['job'],hue='risk',data=df)"
      ],
      "execution_count": 36,
      "outputs": [
        {
          "output_type": "stream",
          "text": [
            "/usr/local/lib/python3.6/dist-packages/seaborn/_decorators.py:43: FutureWarning: Pass the following variable as a keyword arg: x. From version 0.12, the only valid positional argument will be `data`, and passing other arguments without an explicit keyword will result in an error or misinterpretation.\n",
            "  FutureWarning\n"
          ],
          "name": "stderr"
        },
        {
          "output_type": "execute_result",
          "data": {
            "text/plain": [
              "<matplotlib.axes._subplots.AxesSubplot at 0x7f1294e8b208>"
            ]
          },
          "metadata": {
            "tags": []
          },
          "execution_count": 36
        },
        {
          "output_type": "display_data",
          "data": {
            "image/png": "[encoded data removed]",
            "text/plain": [
              "<Figure size 432x288 with 1 Axes>"
            ]
          },
          "metadata": {
            "tags": [],
            "needs_background": "light"
          }
        }
      ]
    },
    {
      "cell_type": "markdown",
      "metadata": {
        "id": "jDZc352uq0xN"
      },
      "source": [
        "#### skilled people are more likely to pay loan"
      ]
    },
    {
      "cell_type": "code",
      "metadata": {
        "id": "E6cVQNI0q0xN",
        "outputId": "92f7eb4a-1649-4bd1-80a1-d731b42e2c0c",
        "colab": {
          "base_uri": "https://localhost:8080/",
          "height": 404
        }
      },
      "source": [
        "#purpose and risk\n",
        "plt.figure(figsize=(20,10))\n",
        "sns.countplot(df['purpose'],hue='risk',data=df)"
      ],
      "execution_count": 37,
      "outputs": [
        {
          "output_type": "stream",
          "text": [
            "/usr/local/lib/python3.6/dist-packages/seaborn/_decorators.py:43: FutureWarning: Pass the following variable as a keyword arg: x. From version 0.12, the only valid positional argument will be `data`, and passing other arguments without an explicit keyword will result in an error or misinterpretation.\n",
            "  FutureWarning\n"
          ],
          "name": "stderr"
        },
        {
          "output_type": "execute_result",
          "data": {
            "text/plain": [
              "<matplotlib.axes._subplots.AxesSubplot at 0x7f1294de40b8>"
            ]
          },
          "metadata": {
            "tags": []
          },
          "execution_count": 37
        },
        {
          "output_type": "display_data",
          "data": {
            "image/png": "[encoded data removed]",
            "text/plain": [
              "<Figure size 1440x720 with 1 Axes>"
            ]
          },
          "metadata": {
            "tags": [],
            "needs_background": "light"
          }
        }
      ]
    },
    {
      "cell_type": "code",
      "metadata": {
        "id": "wjPFaiGSq0xR",
        "outputId": "81fa7d68-3a46-4356-b283-9d092af40df7",
        "colab": {
          "base_uri": "https://localhost:8080/",
          "height": 406
        }
      },
      "source": [
        "#age and risk\n",
        "plt.figure(figsize=(20,10))\n",
        "sns.countplot(df['age'],hue='risk',data=df)"
      ],
      "execution_count": 38,
      "outputs": [
        {
          "output_type": "stream",
          "text": [
            "/usr/local/lib/python3.6/dist-packages/seaborn/_decorators.py:43: FutureWarning: Pass the following variable as a keyword arg: x. From version 0.12, the only valid positional argument will be `data`, and passing other arguments without an explicit keyword will result in an error or misinterpretation.\n",
            "  FutureWarning\n"
          ],
          "name": "stderr"
        },
        {
          "output_type": "execute_result",
          "data": {
            "text/plain": [
              "<matplotlib.axes._subplots.AxesSubplot at 0x7f1294d6ae48>"
            ]
          },
          "metadata": {
            "tags": []
          },
          "execution_count": 38
        },
        {
          "output_type": "display_data",
          "data": {
            "image/png": "[encoded data removed]",
            "text/plain": [
              "<Figure size 1440x720 with 1 Axes>"
            ]
          },
          "metadata": {
            "tags": [],
            "needs_background": "light"
          }
        }
      ]
    },
    {
      "cell_type": "code",
      "metadata": {
        "id": "4nXQEgUhq0xa",
        "outputId": "03fcdce3-c58a-4d3a-dc3d-4e562c513f0c",
        "colab": {
          "base_uri": "https://localhost:8080/",
          "height": 404
        }
      },
      "source": [
        "#job\thousing\tsaving accounts\tchecking account\tcredit amount\tdurat\n",
        "#housing and risk\n",
        "plt.figure(figsize=(20,10))\n",
        "sns.countplot(df['housing'],hue='risk',data=df)"
      ],
      "execution_count": 39,
      "outputs": [
        {
          "output_type": "stream",
          "text": [
            "/usr/local/lib/python3.6/dist-packages/seaborn/_decorators.py:43: FutureWarning: Pass the following variable as a keyword arg: x. From version 0.12, the only valid positional argument will be `data`, and passing other arguments without an explicit keyword will result in an error or misinterpretation.\n",
            "  FutureWarning\n"
          ],
          "name": "stderr"
        },
        {
          "output_type": "execute_result",
          "data": {
            "text/plain": [
              "<matplotlib.axes._subplots.AxesSubplot at 0x7f1296b43d30>"
            ]
          },
          "metadata": {
            "tags": []
          },
          "execution_count": 39
        },
        {
          "output_type": "display_data",
          "data": {
            "image/png": "[encoded data removed]",
            "text/plain": [
              "<Figure size 1440x720 with 1 Axes>"
            ]
          },
          "metadata": {
            "tags": [],
            "needs_background": "light"
          }
        }
      ]
    },
    {
      "cell_type": "code",
      "metadata": {
        "id": "2zGJWwh5q0xk",
        "outputId": "865b1466-a793-493c-e96f-3f9979f4a5bf",
        "colab": {
          "base_uri": "https://localhost:8080/",
          "height": 404
        }
      },
      "source": [
        "#checking account and risk\n",
        "plt.figure(figsize=(20,10))\n",
        "sns.countplot(df['checking_account'],hue='risk',data=df)"
      ],
      "execution_count": 40,
      "outputs": [
        {
          "output_type": "stream",
          "text": [
            "/usr/local/lib/python3.6/dist-packages/seaborn/_decorators.py:43: FutureWarning: Pass the following variable as a keyword arg: x. From version 0.12, the only valid positional argument will be `data`, and passing other arguments without an explicit keyword will result in an error or misinterpretation.\n",
            "  FutureWarning\n"
          ],
          "name": "stderr"
        },
        {
          "output_type": "execute_result",
          "data": {
            "text/plain": [
              "<matplotlib.axes._subplots.AxesSubplot at 0x7f1294aee278>"
            ]
          },
          "metadata": {
            "tags": []
          },
          "execution_count": 40
        },
        {
          "output_type": "display_data",
          "data": {
            "image/png": "[encoded data removed]",
            "text/plain": [
              "<Figure size 1440x720 with 1 Axes>"
            ]
          },
          "metadata": {
            "tags": [],
            "needs_background": "light"
          }
        }
      ]
    },
    {
      "cell_type": "code",
      "metadata": {
        "id": "Kzck7gogq0xn",
        "outputId": "f00109ce-97ca-4855-f0a6-f4382210540f",
        "colab": {
          "base_uri": "https://localhost:8080/",
          "height": 404
        }
      },
      "source": [
        "#savinging account and risk\n",
        "plt.figure(figsize=(20,10))\n",
        "sns.countplot(df['saving_accounts'],hue='risk',data=df)"
      ],
      "execution_count": 41,
      "outputs": [
        {
          "output_type": "stream",
          "text": [
            "/usr/local/lib/python3.6/dist-packages/seaborn/_decorators.py:43: FutureWarning: Pass the following variable as a keyword arg: x. From version 0.12, the only valid positional argument will be `data`, and passing other arguments without an explicit keyword will result in an error or misinterpretation.\n",
            "  FutureWarning\n"
          ],
          "name": "stderr"
        },
        {
          "output_type": "execute_result",
          "data": {
            "text/plain": [
              "<matplotlib.axes._subplots.AxesSubplot at 0x7f1294ada7b8>"
            ]
          },
          "metadata": {
            "tags": []
          },
          "execution_count": 41
        },
        {
          "output_type": "display_data",
          "data": {
            "image/png": "[encoded data removed]",
            "text/plain": [
              "<Figure size 1440x720 with 1 Axes>"
            ]
          },
          "metadata": {
            "tags": [],
            "needs_background": "light"
          }
        }
      ]
    },
    {
      "cell_type": "markdown",
      "metadata": {
        "id": "SatgVi-uq0xs"
      },
      "source": [
        "#### OBSV: based on the analysis  customers with  little savings account has highe risk of defaulting"
      ]
    },
    {
      "cell_type": "code",
      "metadata": {
        "id": "rjqjHVAyq0xs",
        "outputId": "474124eb-16f7-4c2a-8b50-912626c3c21b",
        "colab": {
          "base_uri": "https://localhost:8080/"
        }
      },
      "source": [
        "df.purpose.value_counts()"
      ],
      "execution_count": 42,
      "outputs": [
        {
          "output_type": "execute_result",
          "data": {
            "text/plain": [
              "car                    337\n",
              "radio/TV               280\n",
              "furniture/equipment    181\n",
              "business                97\n",
              "education               59\n",
              "repairs                 22\n",
              "domestic appliances     12\n",
              "vacation/others         12\n",
              "Name: purpose, dtype: int64"
            ]
          },
          "metadata": {
            "tags": []
          },
          "execution_count": 42
        }
      ]
    },
    {
      "cell_type": "markdown",
      "metadata": {
        "id": "jQGd71kWq0x0"
      },
      "source": [
        "### Preprocessing the Data"
      ]
    },
    {
      "cell_type": "code",
      "metadata": {
        "id": "Mb0drOalq0x1"
      },
      "source": [
        "from sklearn.preprocessing import StandardScaler,MinMaxScaler\n",
        "# LabelBinarizer converts the string categorical variable to binary \n",
        "from sklearn.preprocessing import LabelBinarizer\n",
        "lb= LabelBinarizer()\n",
        "df[\"risk\"]= lb.fit_transform(df[\"risk\"])"
      ],
      "execution_count": 43,
      "outputs": []
    },
    {
      "cell_type": "markdown",
      "metadata": {
        "id": "B6Bzo7Vlq0x4"
      },
      "source": [
        " In order to prepare our dataset for our model, we will perform binning on the numerical variables i.e. duration, age and credit amount variables. Once we perform binning, we will later perform one hot encoding to all the categorical variables within our dataset.\n",
        " "
      ]
    },
    {
      "cell_type": "code",
      "metadata": {
        "id": "imsmYFgdq0x4"
      },
      "source": [
        "# performing binning on duration \n",
        "# we bin by specifying 6 bins\n",
        "df[\"duration\"] = pd.qcut(df.duration, q = 6)\n",
        "# performing binning on age\n",
        "# we bin by defining the intervals and categories\n",
        "interval = (18, 25, 35, 60, 120)\n",
        "categories = ['student', 'youth', 'adult', 'senior']\n",
        "df[\"age\"] = pd.cut(df.age, interval, labels = categories)\n",
        "# performing binning on credit_amount\n",
        "# this time we bin without specifying i.e. we create 6 bins\n",
        "df[\"credit_amount\"] = pd.qcut(df.credit_amount, q = 5)"
      ],
      "execution_count": 44,
      "outputs": []
    },
    {
      "cell_type": "code",
      "metadata": {
        "id": "0OAds8KXq0x8"
      },
      "source": [
        "#converting categorical to numbers using oner-hot encoding\n",
        "#male=1,Female=0\n",
        "#df['sex']=df['sex'].map({'male':1,'female':0})\n",
        "\n",
        "#housing :own=0,free=1,rent=2\n",
        "#df['housing']=df['housing'].map({'free':1,'own':0,'rent':2})\n",
        "# svings account litte=1,moderate=2,None=0,rich=3,quiterich=4\n",
        "#df['saving accounts']=df['saving accounts'].map({'little':1,'None':0,'moderate':2,'rich':3,'quite rich':4})\n",
        "# checking account litte=1,moderate=2,None=0,rich=3\n",
        "#df['checking account']=df['checking account'].map({'little':1,'None':0,'moderate':2,'rich':3})\n",
        "#purpose\n",
        "# performing one hot encoding to the purpose variable\n",
        "df = df.merge(pd.get_dummies(df.job, drop_first=True, prefix='job'), left_index=True, right_index=True)\n",
        "# performing one hot encoding to the purpose variable\n",
        "df = df.merge(pd.get_dummies(df.purpose, drop_first=True, prefix='purpose'), left_index=True, right_index=True)\n",
        "# performing one hot encoding to the sex variable\n",
        "df = df.merge(pd.get_dummies(df.sex, drop_first=True, prefix='sex'), left_index=True, right_index=True)\n",
        "# performing one hot encoding to the housing variable\n",
        "df = df.merge(pd.get_dummies(df.housing, drop_first=True, prefix='housing'), left_index=True, right_index=True)\n",
        "# performing one hot encoding to the savings account variable\n",
        "df = df.merge(pd.get_dummies(df.saving_accounts, drop_first=True, prefix='savings'), left_index=True, right_index=True)\n",
        "# performing one hot encoding to checking account variable\n",
        "df = df.merge(pd.get_dummies(df.checking_account, drop_first=True, prefix='check'), left_index=True, right_index=True)\n",
        "# performing one hot encoding to age variable\n",
        "df = df.merge(pd.get_dummies(df.age, drop_first=True, prefix='age'), left_index=True, right_index=True)\n",
        "# performing one hot encoding to age variable\n",
        "df = df.merge(pd.get_dummies(df.duration, drop_first=True, prefix='duration'), left_index=True, right_index=True)\n",
        "# performing one hot encoding to credit amount variable\n",
        "df = df.merge(pd.get_dummies(df.credit_amount, drop_first=True, prefix='credit_amount'), left_index=True, right_index=True)"
      ],
      "execution_count": 45,
      "outputs": []
    },
    {
      "cell_type": "code",
      "metadata": {
        "id": "uxYW3aJyq0x-"
      },
      "source": [
        "# we then cxcluding the missing columns since we have new variables for use\n",
        "del df[\"job\"]\n",
        "del df[\"purpose\"]\n",
        "del df[\"sex\"]\n",
        "del df[\"housing\"]\n",
        "del df[\"saving_accounts\"]\n",
        "del df[\"checking_account\"]\n",
        "del df[\"age\"]\n",
        "del df[\"duration\"]\n",
        "del df[\"credit_amount\"]"
      ],
      "execution_count": 46,
      "outputs": []
    },
    {
      "cell_type": "code",
      "metadata": {
        "id": "byha6r2Jq0yB",
        "outputId": "5dc3f5ab-3774-4c71-a180-058bd1a6a2c6",
        "colab": {
          "base_uri": "https://localhost:8080/",
          "height": 241
        }
      },
      "source": [
        "df.head()"
      ],
      "execution_count": 47,
      "outputs": [
        {
          "output_type": "execute_result",
          "data": {
            "text/html": [
              "<div>\n",
              "<style scoped>\n",
              "    .dataframe tbody tr th:only-of-type {\n",
              "        vertical-align: middle;\n",
              "    }\n",
              "\n",
              "    .dataframe tbody tr th {\n",
              "        vertical-align: top;\n",
              "    }\n",
              "\n",
              "    .dataframe thead th {\n",
              "        text-align: right;\n",
              "    }\n",
              "</style>\n",
              "<table border=\"1\" class=\"dataframe\">\n",
              "  <thead>\n",
              "    <tr style=\"text-align: right;\">\n",
              "      <th></th>\n",
              "      <th>risk</th>\n",
              "      <th>job_1</th>\n",
              "      <th>job_2</th>\n",
              "      <th>job_3</th>\n",
              "      <th>purpose_car</th>\n",
              "      <th>purpose_domestic appliances</th>\n",
              "      <th>purpose_education</th>\n",
              "      <th>purpose_furniture/equipment</th>\n",
              "      <th>purpose_radio/TV</th>\n",
              "      <th>purpose_repairs</th>\n",
              "      <th>purpose_vacation/others</th>\n",
              "      <th>sex_male</th>\n",
              "      <th>housing_own</th>\n",
              "      <th>housing_rent</th>\n",
              "      <th>savings_little</th>\n",
              "      <th>savings_moderate</th>\n",
              "      <th>savings_quite rich</th>\n",
              "      <th>savings_rich</th>\n",
              "      <th>check_little</th>\n",
              "      <th>check_moderate</th>\n",
              "      <th>check_rich</th>\n",
              "      <th>age_youth</th>\n",
              "      <th>age_adult</th>\n",
              "      <th>age_senior</th>\n",
              "      <th>duration_(10.0, 12.0]</th>\n",
              "      <th>duration_(12.0, 18.0]</th>\n",
              "      <th>duration_(18.0, 24.0]</th>\n",
              "      <th>duration_(24.0, 36.0]</th>\n",
              "      <th>duration_(36.0, 72.0]</th>\n",
              "      <th>credit_amount_(1262.0, 1906.8]</th>\n",
              "      <th>credit_amount_(1906.8, 2852.4]</th>\n",
              "      <th>credit_amount_(2852.4, 4720.0]</th>\n",
              "      <th>credit_amount_(4720.0, 18424.0]</th>\n",
              "    </tr>\n",
              "  </thead>\n",
              "  <tbody>\n",
              "    <tr>\n",
              "      <th>0</th>\n",
              "      <td>1</td>\n",
              "      <td>0</td>\n",
              "      <td>1</td>\n",
              "      <td>0</td>\n",
              "      <td>0</td>\n",
              "      <td>0</td>\n",
              "      <td>0</td>\n",
              "      <td>0</td>\n",
              "      <td>1</td>\n",
              "      <td>0</td>\n",
              "      <td>0</td>\n",
              "      <td>1</td>\n",
              "      <td>1</td>\n",
              "      <td>0</td>\n",
              "      <td>0</td>\n",
              "      <td>0</td>\n",
              "      <td>0</td>\n",
              "      <td>0</td>\n",
              "      <td>1</td>\n",
              "      <td>0</td>\n",
              "      <td>0</td>\n",
              "      <td>0</td>\n",
              "      <td>0</td>\n",
              "      <td>1</td>\n",
              "      <td>0</td>\n",
              "      <td>0</td>\n",
              "      <td>0</td>\n",
              "      <td>0</td>\n",
              "      <td>0</td>\n",
              "      <td>0</td>\n",
              "      <td>0</td>\n",
              "      <td>0</td>\n",
              "      <td>0</td>\n",
              "    </tr>\n",
              "    <tr>\n",
              "      <th>1</th>\n",
              "      <td>0</td>\n",
              "      <td>0</td>\n",
              "      <td>1</td>\n",
              "      <td>0</td>\n",
              "      <td>0</td>\n",
              "      <td>0</td>\n",
              "      <td>0</td>\n",
              "      <td>0</td>\n",
              "      <td>1</td>\n",
              "      <td>0</td>\n",
              "      <td>0</td>\n",
              "      <td>0</td>\n",
              "      <td>1</td>\n",
              "      <td>0</td>\n",
              "      <td>1</td>\n",
              "      <td>0</td>\n",
              "      <td>0</td>\n",
              "      <td>0</td>\n",
              "      <td>0</td>\n",
              "      <td>1</td>\n",
              "      <td>0</td>\n",
              "      <td>0</td>\n",
              "      <td>0</td>\n",
              "      <td>0</td>\n",
              "      <td>0</td>\n",
              "      <td>0</td>\n",
              "      <td>0</td>\n",
              "      <td>0</td>\n",
              "      <td>1</td>\n",
              "      <td>0</td>\n",
              "      <td>0</td>\n",
              "      <td>0</td>\n",
              "      <td>1</td>\n",
              "    </tr>\n",
              "    <tr>\n",
              "      <th>2</th>\n",
              "      <td>1</td>\n",
              "      <td>1</td>\n",
              "      <td>0</td>\n",
              "      <td>0</td>\n",
              "      <td>0</td>\n",
              "      <td>0</td>\n",
              "      <td>1</td>\n",
              "      <td>0</td>\n",
              "      <td>0</td>\n",
              "      <td>0</td>\n",
              "      <td>0</td>\n",
              "      <td>1</td>\n",
              "      <td>1</td>\n",
              "      <td>0</td>\n",
              "      <td>1</td>\n",
              "      <td>0</td>\n",
              "      <td>0</td>\n",
              "      <td>0</td>\n",
              "      <td>0</td>\n",
              "      <td>0</td>\n",
              "      <td>0</td>\n",
              "      <td>0</td>\n",
              "      <td>1</td>\n",
              "      <td>0</td>\n",
              "      <td>1</td>\n",
              "      <td>0</td>\n",
              "      <td>0</td>\n",
              "      <td>0</td>\n",
              "      <td>0</td>\n",
              "      <td>0</td>\n",
              "      <td>1</td>\n",
              "      <td>0</td>\n",
              "      <td>0</td>\n",
              "    </tr>\n",
              "    <tr>\n",
              "      <th>3</th>\n",
              "      <td>1</td>\n",
              "      <td>0</td>\n",
              "      <td>1</td>\n",
              "      <td>0</td>\n",
              "      <td>0</td>\n",
              "      <td>0</td>\n",
              "      <td>0</td>\n",
              "      <td>1</td>\n",
              "      <td>0</td>\n",
              "      <td>0</td>\n",
              "      <td>0</td>\n",
              "      <td>1</td>\n",
              "      <td>0</td>\n",
              "      <td>0</td>\n",
              "      <td>1</td>\n",
              "      <td>0</td>\n",
              "      <td>0</td>\n",
              "      <td>0</td>\n",
              "      <td>1</td>\n",
              "      <td>0</td>\n",
              "      <td>0</td>\n",
              "      <td>0</td>\n",
              "      <td>1</td>\n",
              "      <td>0</td>\n",
              "      <td>0</td>\n",
              "      <td>0</td>\n",
              "      <td>0</td>\n",
              "      <td>0</td>\n",
              "      <td>1</td>\n",
              "      <td>0</td>\n",
              "      <td>0</td>\n",
              "      <td>0</td>\n",
              "      <td>1</td>\n",
              "    </tr>\n",
              "    <tr>\n",
              "      <th>4</th>\n",
              "      <td>0</td>\n",
              "      <td>0</td>\n",
              "      <td>1</td>\n",
              "      <td>0</td>\n",
              "      <td>1</td>\n",
              "      <td>0</td>\n",
              "      <td>0</td>\n",
              "      <td>0</td>\n",
              "      <td>0</td>\n",
              "      <td>0</td>\n",
              "      <td>0</td>\n",
              "      <td>1</td>\n",
              "      <td>0</td>\n",
              "      <td>0</td>\n",
              "      <td>1</td>\n",
              "      <td>0</td>\n",
              "      <td>0</td>\n",
              "      <td>0</td>\n",
              "      <td>1</td>\n",
              "      <td>0</td>\n",
              "      <td>0</td>\n",
              "      <td>0</td>\n",
              "      <td>1</td>\n",
              "      <td>0</td>\n",
              "      <td>0</td>\n",
              "      <td>0</td>\n",
              "      <td>1</td>\n",
              "      <td>0</td>\n",
              "      <td>0</td>\n",
              "      <td>0</td>\n",
              "      <td>0</td>\n",
              "      <td>0</td>\n",
              "      <td>1</td>\n",
              "    </tr>\n",
              "  </tbody>\n",
              "</table>\n",
              "</div>"
            ],
            "text/plain": [
              "   risk  job_1  ...  credit_amount_(2852.4, 4720.0]  credit_amount_(4720.0, 18424.0]\n",
              "0     1      0  ...                               0                                0\n",
              "1     0      0  ...                               0                                1\n",
              "2     1      1  ...                               0                                0\n",
              "3     1      0  ...                               0                                1\n",
              "4     0      0  ...                               0                                1\n",
              "\n",
              "[5 rows x 33 columns]"
            ]
          },
          "metadata": {
            "tags": []
          },
          "execution_count": 47
        }
      ]
    },
    {
      "cell_type": "code",
      "metadata": {
        "id": "aqQr9FQOq0yF"
      },
      "source": [
        ""
      ],
      "execution_count": 47,
      "outputs": []
    },
    {
      "cell_type": "code",
      "metadata": {
        "id": "KAmOBt-kq0yI"
      },
      "source": [
        "#scaler=StandardScaler()\n",
        "#df=scaler.fit_transform(df)\n",
        "   "
      ],
      "execution_count": 48,
      "outputs": []
    },
    {
      "cell_type": "code",
      "metadata": {
        "id": "ptmow7XOq0yQ"
      },
      "source": [
        ""
      ],
      "execution_count": 48,
      "outputs": []
    },
    {
      "cell_type": "code",
      "metadata": {
        "id": "riyK-2EHq0yV"
      },
      "source": [
        ""
      ],
      "execution_count": 48,
      "outputs": []
    },
    {
      "cell_type": "markdown",
      "metadata": {
        "id": "4CLftGYOq0yb"
      },
      "source": [
        "## 4.MODELING"
      ]
    },
    {
      "cell_type": "code",
      "metadata": {
        "id": "9P363sg0q0yc",
        "outputId": "13e28151-d4aa-4e93-dffc-8116bc84c075",
        "colab": {
          "base_uri": "https://localhost:8080/"
        }
      },
      "source": [
        "#predictor variables\n",
        "X=df.drop(columns=['risk'],axis=1)\n",
        "#target variable\n",
        "y=df.risk\n",
        "#splitting data\n",
        "X_train,X_test,y_train,y_test=train_test_split(X,y,stratify=y,random_state=0,test_size=0.2)\n",
        "\n",
        "# creating a balanced dataset\n",
        "from imblearn.over_sampling import SMOTE\n",
        "smt=SMOTE()\n",
        "X_train,y_train=smt.fit_sample(X_train,y_train)\n",
        "\n",
        "# we check the amount of records in each category\n",
        "np.bincount(y_train)"
      ],
      "execution_count": 49,
      "outputs": [
        {
          "output_type": "stream",
          "text": [
            "/usr/local/lib/python3.6/dist-packages/sklearn/externals/six.py:31: FutureWarning: The module is deprecated in version 0.21 and will be removed in version 0.23 since we've dropped support for Python 2.7. Please rely on the official version of six (https://pypi.org/project/six/).\n",
            "  \"(https://pypi.org/project/six/).\", FutureWarning)\n",
            "/usr/local/lib/python3.6/dist-packages/sklearn/utils/deprecation.py:144: FutureWarning: The sklearn.neighbors.base module is  deprecated in version 0.22 and will be removed in version 0.24. The corresponding classes / functions should instead be imported from sklearn.neighbors. Anything that cannot be imported from sklearn.neighbors is now part of the private API.\n",
            "  warnings.warn(message, FutureWarning)\n",
            "/usr/local/lib/python3.6/dist-packages/sklearn/utils/deprecation.py:87: FutureWarning: Function safe_indexing is deprecated; safe_indexing is deprecated in version 0.22 and will be removed in version 0.24.\n",
            "  warnings.warn(msg, category=FutureWarning)\n"
          ],
          "name": "stderr"
        },
        {
          "output_type": "execute_result",
          "data": {
            "text/plain": [
              "array([560, 560])"
            ]
          },
          "metadata": {
            "tags": []
          },
          "execution_count": 49
        }
      ]
    },
    {
      "cell_type": "markdown",
      "metadata": {
        "id": "POu86eeXq0yj"
      },
      "source": [
        "#### logistic regression"
      ]
    },
    {
      "cell_type": "code",
      "metadata": {
        "id": "eM7vKhDrq0yl",
        "outputId": "30e1b07e-8add-4546-a734-a8abe3fd44fb",
        "colab": {
          "base_uri": "https://localhost:8080/"
        }
      },
      "source": [
        "log=LogisticRegression()\n",
        "#fitting model\n",
        "log.fit(X_train,y_train)\n",
        "#predictions\n",
        "prediction=log.predict(X_test)\n",
        "#checking accuracy\n",
        "print(accuracy_score(prediction,y_test))\n",
        "print(confusion_matrix(y_test,prediction))"
      ],
      "execution_count": 50,
      "outputs": [
        {
          "output_type": "stream",
          "text": [
            "0.735\n",
            "[[ 19  41]\n",
            " [ 12 128]]\n"
          ],
          "name": "stdout"
        }
      ]
    },
    {
      "cell_type": "markdown",
      "metadata": {
        "id": "wev_9KY_q0yu"
      },
      "source": [
        "#### RandomForestClasifier"
      ]
    },
    {
      "cell_type": "code",
      "metadata": {
        "id": "Xf4HWlUHq0yv",
        "outputId": "ac6e1429-8b3a-43e4-9331-2b54cacc3e18",
        "colab": {
          "base_uri": "https://localhost:8080/"
        }
      },
      "source": [
        "ran=RandomForestClassifier()\n",
        "#fitting model\n",
        "ran.fit(X_train,y_train)\n",
        "#predictions\n",
        "prediction=ran.predict(X_test)\n",
        "#checking accuracy\n",
        "print(accuracy_score(prediction,y_test))\n",
        "print(confusion_matrix(y_test,prediction))"
      ],
      "execution_count": 51,
      "outputs": [
        {
          "output_type": "stream",
          "text": [
            "0.69\n",
            "[[ 20  40]\n",
            " [ 22 118]]\n"
          ],
          "name": "stdout"
        }
      ]
    },
    {
      "cell_type": "markdown",
      "metadata": {
        "id": "Sq2ejtLEq0y4"
      },
      "source": [
        "#### Neural Networks"
      ]
    },
    {
      "cell_type": "code",
      "metadata": {
        "id": "lP2HhrS6q0y6",
        "outputId": "5ba3fff7-812a-42fe-8a6f-75a6a41a5498",
        "colab": {
          "base_uri": "https://localhost:8080/"
        }
      },
      "source": [
        "# importing libraries\n",
        "import keras\n",
        "from keras.models import Sequential     # Used to initialize the Artificial Neural Network\n",
        "from keras.layers import Dense          # Used to build the hidden Layers\n",
        "from keras.layers import Dropout        # Used to prevent overfitting\n",
        "\n",
        "# creating an instance \n",
        "classifier = Sequential() \n",
        "\n",
        "# adding hidden layers\n",
        "classifier.add(Dense(units = 100, input_dim = 32, activation = 'relu'))\n",
        "classifier.add(Dropout(0.3, seed = 2))\n",
        "classifier.add(Dense(units = 100, activation = 'relu'))\n",
        "classifier.add(Dropout(0.3, seed = 2))\n",
        "\n",
        "# output layer\n",
        "classifier.add(Dense(units = 1, activation = \"sigmoid\"))\n",
        "\n",
        "# compiling our model\n",
        "classifier.compile(optimizer = 'adam', loss = 'binary_crossentropy', metrics = ['accuracy'])\n",
        "\n",
        "# training our model\n",
        "classifier.fit(X_train, y_train, epochs = 500, batch_size = 32)"
      ],
      "execution_count": 52,
      "outputs": [
        {
          "output_type": "stream",
          "text": [
            "Epoch 1/500\n",
            "35/35 [==============================] - 0s 3ms/step - loss: 0.6204 - accuracy: 0.5518\n",
            "Epoch 2/500\n",
            "35/35 [==============================] - 0s 2ms/step - loss: 0.5158 - accuracy: 0.6973\n",
            "Epoch 3/500\n",
            "35/35 [==============================] - 0s 2ms/step - loss: 0.4836 - accuracy: 0.7554\n",
            "Epoch 4/500\n",
            "35/35 [==============================] - 0s 2ms/step - loss: 0.4695 - accuracy: 0.7652\n",
            "Epoch 5/500\n",
            "35/35 [==============================] - 0s 2ms/step - loss: 0.4653 - accuracy: 0.7732\n",
            "Epoch 6/500\n",
            "35/35 [==============================] - 0s 2ms/step - loss: 0.4446 - accuracy: 0.7741\n",
            "Epoch 7/500\n",
            "35/35 [==============================] - 0s 2ms/step - loss: 0.4319 - accuracy: 0.7741\n",
            "Epoch 8/500\n",
            "35/35 [==============================] - 0s 2ms/step - loss: 0.4286 - accuracy: 0.7759\n",
            "Epoch 9/500\n",
            "35/35 [==============================] - 0s 2ms/step - loss: 0.4258 - accuracy: 0.7911\n",
            "Epoch 10/500\n",
            "35/35 [==============================] - 0s 2ms/step - loss: 0.4112 - accuracy: 0.8009\n",
            "Epoch 11/500\n",
            "35/35 [==============================] - 0s 3ms/step - loss: 0.3977 - accuracy: 0.8071\n",
            "Epoch 12/500\n",
            "35/35 [==============================] - 0s 2ms/step - loss: 0.3925 - accuracy: 0.8107\n",
            "Epoch 13/500\n",
            "35/35 [==============================] - 0s 2ms/step - loss: 0.3911 - accuracy: 0.8125\n",
            "Epoch 14/500\n",
            "35/35 [==============================] - 0s 2ms/step - loss: 0.3878 - accuracy: 0.8161\n",
            "Epoch 15/500\n",
            "35/35 [==============================] - 0s 3ms/step - loss: 0.3864 - accuracy: 0.8062\n",
            "Epoch 16/500\n",
            "35/35 [==============================] - 0s 3ms/step - loss: 0.3737 - accuracy: 0.8259\n",
            "Epoch 17/500\n",
            "35/35 [==============================] - 0s 2ms/step - loss: 0.3722 - accuracy: 0.8214\n",
            "Epoch 18/500\n",
            "35/35 [==============================] - 0s 2ms/step - loss: 0.3639 - accuracy: 0.8321\n",
            "Epoch 19/500\n",
            "35/35 [==============================] - 0s 2ms/step - loss: 0.3640 - accuracy: 0.8232\n",
            "Epoch 20/500\n",
            "35/35 [==============================] - 0s 2ms/step - loss: 0.3620 - accuracy: 0.8268\n",
            "Epoch 21/500\n",
            "35/35 [==============================] - 0s 2ms/step - loss: 0.4002 - accuracy: 0.8402\n",
            "Epoch 22/500\n",
            "35/35 [==============================] - 0s 3ms/step - loss: 0.3551 - accuracy: 0.8357\n",
            "Epoch 23/500\n",
            "35/35 [==============================] - 0s 3ms/step - loss: 0.3527 - accuracy: 0.8313\n",
            "Epoch 24/500\n",
            "35/35 [==============================] - 0s 2ms/step - loss: 0.3498 - accuracy: 0.8348\n",
            "Epoch 25/500\n",
            "35/35 [==============================] - 0s 2ms/step - loss: 0.3474 - accuracy: 0.8402\n",
            "Epoch 26/500\n",
            "35/35 [==============================] - 0s 2ms/step - loss: 0.3444 - accuracy: 0.8420\n",
            "Epoch 27/500\n",
            "35/35 [==============================] - 0s 2ms/step - loss: 0.3438 - accuracy: 0.8420\n",
            "Epoch 28/500\n",
            "35/35 [==============================] - 0s 3ms/step - loss: 0.3260 - accuracy: 0.8562\n",
            "Epoch 29/500\n",
            "35/35 [==============================] - 0s 2ms/step - loss: 0.3304 - accuracy: 0.8402\n",
            "Epoch 30/500\n",
            "35/35 [==============================] - 0s 2ms/step - loss: 0.3224 - accuracy: 0.8554\n",
            "Epoch 31/500\n",
            "35/35 [==============================] - 0s 2ms/step - loss: 0.3234 - accuracy: 0.8464\n",
            "Epoch 32/500\n",
            "35/35 [==============================] - 0s 2ms/step - loss: 0.3365 - accuracy: 0.8393\n",
            "Epoch 33/500\n",
            "35/35 [==============================] - 0s 2ms/step - loss: 0.3075 - accuracy: 0.8625\n",
            "Epoch 34/500\n",
            "35/35 [==============================] - 0s 2ms/step - loss: 0.3076 - accuracy: 0.8607\n",
            "Epoch 35/500\n",
            "35/35 [==============================] - 0s 2ms/step - loss: 0.3084 - accuracy: 0.8562\n",
            "Epoch 36/500\n",
            "35/35 [==============================] - 0s 2ms/step - loss: 0.3090 - accuracy: 0.8643\n",
            "Epoch 37/500\n",
            "35/35 [==============================] - 0s 2ms/step - loss: 0.3012 - accuracy: 0.8616\n",
            "Epoch 38/500\n",
            "35/35 [==============================] - 0s 2ms/step - loss: 0.2988 - accuracy: 0.8643\n",
            "Epoch 39/500\n",
            "35/35 [==============================] - 0s 2ms/step - loss: 0.2933 - accuracy: 0.8714\n",
            "Epoch 40/500\n",
            "35/35 [==============================] - 0s 2ms/step - loss: 0.2910 - accuracy: 0.8652\n",
            "Epoch 41/500\n",
            "35/35 [==============================] - 0s 2ms/step - loss: 0.2800 - accuracy: 0.8786\n",
            "Epoch 42/500\n",
            "35/35 [==============================] - 0s 2ms/step - loss: 0.2849 - accuracy: 0.8661\n",
            "Epoch 43/500\n",
            "35/35 [==============================] - 0s 3ms/step - loss: 0.2892 - accuracy: 0.8768\n",
            "Epoch 44/500\n",
            "35/35 [==============================] - 0s 3ms/step - loss: 0.2742 - accuracy: 0.8732\n",
            "Epoch 45/500\n",
            "35/35 [==============================] - 0s 2ms/step - loss: 0.2686 - accuracy: 0.8875\n",
            "Epoch 46/500\n",
            "35/35 [==============================] - 0s 2ms/step - loss: 0.2738 - accuracy: 0.8813\n",
            "Epoch 47/500\n",
            "35/35 [==============================] - 0s 2ms/step - loss: 0.2725 - accuracy: 0.8777\n",
            "Epoch 48/500\n",
            "35/35 [==============================] - 0s 2ms/step - loss: 0.2627 - accuracy: 0.8839\n",
            "Epoch 49/500\n",
            "35/35 [==============================] - 0s 3ms/step - loss: 0.2521 - accuracy: 0.8955\n",
            "Epoch 50/500\n",
            "35/35 [==============================] - 0s 2ms/step - loss: 0.2539 - accuracy: 0.8929\n",
            "Epoch 51/500\n",
            "35/35 [==============================] - 0s 3ms/step - loss: 0.2480 - accuracy: 0.8973\n",
            "Epoch 52/500\n",
            "35/35 [==============================] - 0s 3ms/step - loss: 0.2549 - accuracy: 0.8875\n",
            "Epoch 53/500\n",
            "35/35 [==============================] - 0s 3ms/step - loss: 0.2557 - accuracy: 0.8857\n",
            "Epoch 54/500\n",
            "35/35 [==============================] - 0s 3ms/step - loss: 0.2504 - accuracy: 0.8955\n",
            "Epoch 55/500\n",
            "35/35 [==============================] - 0s 2ms/step - loss: 0.2476 - accuracy: 0.8911\n",
            "Epoch 56/500\n",
            "35/35 [==============================] - 0s 3ms/step - loss: 0.2507 - accuracy: 0.9027\n",
            "Epoch 57/500\n",
            "35/35 [==============================] - 0s 2ms/step - loss: 0.2416 - accuracy: 0.8946\n",
            "Epoch 58/500\n",
            "35/35 [==============================] - 0s 2ms/step - loss: 0.2351 - accuracy: 0.8991\n",
            "Epoch 59/500\n",
            "35/35 [==============================] - 0s 2ms/step - loss: 0.2320 - accuracy: 0.9098\n",
            "Epoch 60/500\n",
            "35/35 [==============================] - 0s 2ms/step - loss: 0.2402 - accuracy: 0.8964\n",
            "Epoch 61/500\n",
            "35/35 [==============================] - 0s 2ms/step - loss: 0.2265 - accuracy: 0.9071\n",
            "Epoch 62/500\n",
            "35/35 [==============================] - 0s 2ms/step - loss: 0.2342 - accuracy: 0.8982\n",
            "Epoch 63/500\n",
            "35/35 [==============================] - 0s 2ms/step - loss: 0.2246 - accuracy: 0.9116\n",
            "Epoch 64/500\n",
            "35/35 [==============================] - 0s 2ms/step - loss: 0.2318 - accuracy: 0.8946\n",
            "Epoch 65/500\n",
            "35/35 [==============================] - 0s 3ms/step - loss: 0.2112 - accuracy: 0.9107\n",
            "Epoch 66/500\n",
            "35/35 [==============================] - 0s 2ms/step - loss: 0.2159 - accuracy: 0.9089\n",
            "Epoch 67/500\n",
            "35/35 [==============================] - 0s 3ms/step - loss: 0.2289 - accuracy: 0.9125\n",
            "Epoch 68/500\n",
            "35/35 [==============================] - 0s 3ms/step - loss: 0.2126 - accuracy: 0.9107\n",
            "Epoch 69/500\n",
            "35/35 [==============================] - 0s 2ms/step - loss: 0.2065 - accuracy: 0.9187\n",
            "Epoch 70/500\n",
            "35/35 [==============================] - 0s 2ms/step - loss: 0.2138 - accuracy: 0.9018\n",
            "Epoch 71/500\n",
            "35/35 [==============================] - 0s 2ms/step - loss: 0.2074 - accuracy: 0.9116\n",
            "Epoch 72/500\n",
            "35/35 [==============================] - 0s 2ms/step - loss: 0.2033 - accuracy: 0.9179\n",
            "Epoch 73/500\n",
            "35/35 [==============================] - 0s 2ms/step - loss: 0.1968 - accuracy: 0.9125\n",
            "Epoch 74/500\n",
            "35/35 [==============================] - 0s 2ms/step - loss: 0.1969 - accuracy: 0.9152\n",
            "Epoch 75/500\n",
            "35/35 [==============================] - 0s 2ms/step - loss: 0.1921 - accuracy: 0.9152\n",
            "Epoch 76/500\n",
            "35/35 [==============================] - 0s 3ms/step - loss: 0.1905 - accuracy: 0.9196\n",
            "Epoch 77/500\n",
            "35/35 [==============================] - 0s 3ms/step - loss: 0.2063 - accuracy: 0.9134\n",
            "Epoch 78/500\n",
            "35/35 [==============================] - 0s 3ms/step - loss: 0.1942 - accuracy: 0.9143\n",
            "Epoch 79/500\n",
            "35/35 [==============================] - 0s 2ms/step - loss: 0.2118 - accuracy: 0.9098\n",
            "Epoch 80/500\n",
            "35/35 [==============================] - 0s 2ms/step - loss: 0.1749 - accuracy: 0.9330\n",
            "Epoch 81/500\n",
            "35/35 [==============================] - 0s 2ms/step - loss: 0.1916 - accuracy: 0.9161\n",
            "Epoch 82/500\n",
            "35/35 [==============================] - 0s 2ms/step - loss: 0.2050 - accuracy: 0.9152\n",
            "Epoch 83/500\n",
            "35/35 [==============================] - 0s 2ms/step - loss: 0.1929 - accuracy: 0.9214\n",
            "Epoch 84/500\n",
            "35/35 [==============================] - 0s 2ms/step - loss: 0.1893 - accuracy: 0.9232\n",
            "Epoch 85/500\n",
            "35/35 [==============================] - 0s 2ms/step - loss: 0.1614 - accuracy: 0.9366\n",
            "Epoch 86/500\n",
            "35/35 [==============================] - 0s 3ms/step - loss: 0.1911 - accuracy: 0.9241\n",
            "Epoch 87/500\n",
            "35/35 [==============================] - 0s 3ms/step - loss: 0.1808 - accuracy: 0.9286\n",
            "Epoch 88/500\n",
            "35/35 [==============================] - 0s 2ms/step - loss: 0.1666 - accuracy: 0.9321\n",
            "Epoch 89/500\n",
            "35/35 [==============================] - 0s 2ms/step - loss: 0.1735 - accuracy: 0.9277\n",
            "Epoch 90/500\n",
            "35/35 [==============================] - 0s 2ms/step - loss: 0.1870 - accuracy: 0.9205\n",
            "Epoch 91/500\n",
            "35/35 [==============================] - 0s 2ms/step - loss: 0.1750 - accuracy: 0.9304\n",
            "Epoch 92/500\n",
            "35/35 [==============================] - 0s 2ms/step - loss: 0.1759 - accuracy: 0.9259\n",
            "Epoch 93/500\n",
            "35/35 [==============================] - 0s 2ms/step - loss: 0.1761 - accuracy: 0.9232\n",
            "Epoch 94/500\n",
            "35/35 [==============================] - 0s 3ms/step - loss: 0.1583 - accuracy: 0.9339\n",
            "Epoch 95/500\n",
            "35/35 [==============================] - 0s 3ms/step - loss: 0.1731 - accuracy: 0.9330\n",
            "Epoch 96/500\n",
            "35/35 [==============================] - 0s 2ms/step - loss: 0.1687 - accuracy: 0.9312\n",
            "Epoch 97/500\n",
            "35/35 [==============================] - 0s 3ms/step - loss: 0.1552 - accuracy: 0.9339\n",
            "Epoch 98/500\n",
            "35/35 [==============================] - 0s 2ms/step - loss: 0.1724 - accuracy: 0.9259\n",
            "Epoch 99/500\n",
            "35/35 [==============================] - 0s 2ms/step - loss: 0.1682 - accuracy: 0.9268\n",
            "Epoch 100/500\n",
            "35/35 [==============================] - 0s 2ms/step - loss: 0.1554 - accuracy: 0.9402\n",
            "Epoch 101/500\n",
            "35/35 [==============================] - 0s 3ms/step - loss: 0.1667 - accuracy: 0.9321\n",
            "Epoch 102/500\n",
            "35/35 [==============================] - 0s 2ms/step - loss: 0.1667 - accuracy: 0.9295\n",
            "Epoch 103/500\n",
            "35/35 [==============================] - 0s 2ms/step - loss: 0.1632 - accuracy: 0.9277\n",
            "Epoch 104/500\n",
            "35/35 [==============================] - 0s 2ms/step - loss: 0.1659 - accuracy: 0.9259\n",
            "Epoch 105/500\n",
            "35/35 [==============================] - 0s 2ms/step - loss: 0.1543 - accuracy: 0.9357\n",
            "Epoch 106/500\n",
            "35/35 [==============================] - 0s 2ms/step - loss: 0.1463 - accuracy: 0.9420\n",
            "Epoch 107/500\n",
            "35/35 [==============================] - 0s 2ms/step - loss: 0.1509 - accuracy: 0.9384\n",
            "Epoch 108/500\n",
            "35/35 [==============================] - 0s 3ms/step - loss: 0.1300 - accuracy: 0.9464\n",
            "Epoch 109/500\n",
            "35/35 [==============================] - 0s 3ms/step - loss: 0.1496 - accuracy: 0.9429\n",
            "Epoch 110/500\n",
            "35/35 [==============================] - 0s 2ms/step - loss: 0.1478 - accuracy: 0.9366\n",
            "Epoch 111/500\n",
            "35/35 [==============================] - 0s 2ms/step - loss: 0.1502 - accuracy: 0.9429\n",
            "Epoch 112/500\n",
            "35/35 [==============================] - 0s 2ms/step - loss: 0.1504 - accuracy: 0.9348\n",
            "Epoch 113/500\n",
            "35/35 [==============================] - 0s 2ms/step - loss: 0.1294 - accuracy: 0.9527\n",
            "Epoch 114/500\n",
            "35/35 [==============================] - 0s 3ms/step - loss: 0.1489 - accuracy: 0.9429\n",
            "Epoch 115/500\n",
            "35/35 [==============================] - 0s 2ms/step - loss: 0.1387 - accuracy: 0.9402\n",
            "Epoch 116/500\n",
            "35/35 [==============================] - 0s 2ms/step - loss: 0.1320 - accuracy: 0.9357\n",
            "Epoch 117/500\n",
            "35/35 [==============================] - 0s 3ms/step - loss: 0.1359 - accuracy: 0.9438\n",
            "Epoch 118/500\n",
            "35/35 [==============================] - 0s 2ms/step - loss: 0.1300 - accuracy: 0.9473\n",
            "Epoch 119/500\n",
            "35/35 [==============================] - 0s 3ms/step - loss: 0.1342 - accuracy: 0.9438\n",
            "Epoch 120/500\n",
            "35/35 [==============================] - 0s 3ms/step - loss: 0.1341 - accuracy: 0.9473\n",
            "Epoch 121/500\n",
            "35/35 [==============================] - 0s 3ms/step - loss: 0.1380 - accuracy: 0.9473\n",
            "Epoch 122/500\n",
            "35/35 [==============================] - 0s 2ms/step - loss: 0.1477 - accuracy: 0.9375\n",
            "Epoch 123/500\n",
            "35/35 [==============================] - 0s 2ms/step - loss: 0.1363 - accuracy: 0.9473\n",
            "Epoch 124/500\n",
            "35/35 [==============================] - 0s 2ms/step - loss: 0.1391 - accuracy: 0.9384\n",
            "Epoch 125/500\n",
            "35/35 [==============================] - 0s 2ms/step - loss: 0.1469 - accuracy: 0.9357\n",
            "Epoch 126/500\n",
            "35/35 [==============================] - 0s 3ms/step - loss: 0.1438 - accuracy: 0.9384\n",
            "Epoch 127/500\n",
            "35/35 [==============================] - 0s 3ms/step - loss: 0.1282 - accuracy: 0.9446\n",
            "Epoch 128/500\n",
            "35/35 [==============================] - 0s 2ms/step - loss: 0.1314 - accuracy: 0.9491\n",
            "Epoch 129/500\n",
            "35/35 [==============================] - 0s 3ms/step - loss: 0.1371 - accuracy: 0.9366\n",
            "Epoch 130/500\n",
            "35/35 [==============================] - 0s 2ms/step - loss: 0.1321 - accuracy: 0.9411\n",
            "Epoch 131/500\n",
            "35/35 [==============================] - 0s 3ms/step - loss: 0.1357 - accuracy: 0.9500\n",
            "Epoch 132/500\n",
            "35/35 [==============================] - 0s 2ms/step - loss: 0.1412 - accuracy: 0.9402\n",
            "Epoch 133/500\n",
            "35/35 [==============================] - 0s 2ms/step - loss: 0.1347 - accuracy: 0.9438\n",
            "Epoch 134/500\n",
            "35/35 [==============================] - 0s 2ms/step - loss: 0.1353 - accuracy: 0.9411\n",
            "Epoch 135/500\n",
            "35/35 [==============================] - 0s 2ms/step - loss: 0.1383 - accuracy: 0.9446\n",
            "Epoch 136/500\n",
            "35/35 [==============================] - 0s 3ms/step - loss: 0.1154 - accuracy: 0.9527\n",
            "Epoch 137/500\n",
            "35/35 [==============================] - 0s 3ms/step - loss: 0.1150 - accuracy: 0.9464\n",
            "Epoch 138/500\n",
            "35/35 [==============================] - 0s 2ms/step - loss: 0.1193 - accuracy: 0.9545\n",
            "Epoch 139/500\n",
            "35/35 [==============================] - 0s 2ms/step - loss: 0.1171 - accuracy: 0.9500\n",
            "Epoch 140/500\n",
            "35/35 [==============================] - 0s 3ms/step - loss: 0.1331 - accuracy: 0.9429\n",
            "Epoch 141/500\n",
            "35/35 [==============================] - 0s 2ms/step - loss: 0.1269 - accuracy: 0.9536\n",
            "Epoch 142/500\n",
            "35/35 [==============================] - 0s 2ms/step - loss: 0.1222 - accuracy: 0.9545\n",
            "Epoch 143/500\n",
            "35/35 [==============================] - 0s 2ms/step - loss: 0.1102 - accuracy: 0.9509\n",
            "Epoch 144/500\n",
            "35/35 [==============================] - 0s 3ms/step - loss: 0.1149 - accuracy: 0.9464\n",
            "Epoch 145/500\n",
            "35/35 [==============================] - 0s 2ms/step - loss: 0.1261 - accuracy: 0.9500\n",
            "Epoch 146/500\n",
            "35/35 [==============================] - 0s 3ms/step - loss: 0.1245 - accuracy: 0.9518\n",
            "Epoch 147/500\n",
            "35/35 [==============================] - 0s 2ms/step - loss: 0.1240 - accuracy: 0.9536\n",
            "Epoch 148/500\n",
            "35/35 [==============================] - 0s 3ms/step - loss: 0.1194 - accuracy: 0.9500\n",
            "Epoch 149/500\n",
            "35/35 [==============================] - 0s 3ms/step - loss: 0.1162 - accuracy: 0.9554\n",
            "Epoch 150/500\n",
            "35/35 [==============================] - 0s 3ms/step - loss: 0.1177 - accuracy: 0.9554\n",
            "Epoch 151/500\n",
            "35/35 [==============================] - 0s 3ms/step - loss: 0.1276 - accuracy: 0.9500\n",
            "Epoch 152/500\n",
            "35/35 [==============================] - 0s 3ms/step - loss: 0.1202 - accuracy: 0.9563\n",
            "Epoch 153/500\n",
            "35/35 [==============================] - 0s 2ms/step - loss: 0.1244 - accuracy: 0.9455\n",
            "Epoch 154/500\n",
            "35/35 [==============================] - 0s 2ms/step - loss: 0.1079 - accuracy: 0.9554\n",
            "Epoch 155/500\n",
            "35/35 [==============================] - 0s 2ms/step - loss: 0.1144 - accuracy: 0.9607\n",
            "Epoch 156/500\n",
            "35/35 [==============================] - 0s 3ms/step - loss: 0.1467 - accuracy: 0.9339\n",
            "Epoch 157/500\n",
            "35/35 [==============================] - 0s 3ms/step - loss: 0.1049 - accuracy: 0.9589\n",
            "Epoch 158/500\n",
            "35/35 [==============================] - 0s 2ms/step - loss: 0.1030 - accuracy: 0.9509\n",
            "Epoch 159/500\n",
            "35/35 [==============================] - 0s 2ms/step - loss: 0.1116 - accuracy: 0.9500\n",
            "Epoch 160/500\n",
            "35/35 [==============================] - 0s 3ms/step - loss: 0.1092 - accuracy: 0.9527\n",
            "Epoch 161/500\n",
            "35/35 [==============================] - 0s 2ms/step - loss: 0.1098 - accuracy: 0.9598\n",
            "Epoch 162/500\n",
            "35/35 [==============================] - 0s 2ms/step - loss: 0.1128 - accuracy: 0.9527\n",
            "Epoch 163/500\n",
            "35/35 [==============================] - 0s 2ms/step - loss: 0.1170 - accuracy: 0.9545\n",
            "Epoch 164/500\n",
            "35/35 [==============================] - 0s 3ms/step - loss: 0.1022 - accuracy: 0.9616\n",
            "Epoch 165/500\n",
            "35/35 [==============================] - 0s 3ms/step - loss: 0.0960 - accuracy: 0.9616\n",
            "Epoch 166/500\n",
            "35/35 [==============================] - 0s 3ms/step - loss: 0.1100 - accuracy: 0.9527\n",
            "Epoch 167/500\n",
            "35/35 [==============================] - 0s 3ms/step - loss: 0.1061 - accuracy: 0.9518\n",
            "Epoch 168/500\n",
            "35/35 [==============================] - 0s 3ms/step - loss: 0.1114 - accuracy: 0.9554\n",
            "Epoch 169/500\n",
            "35/35 [==============================] - 0s 3ms/step - loss: 0.1072 - accuracy: 0.9661\n",
            "Epoch 170/500\n",
            "35/35 [==============================] - 0s 3ms/step - loss: 0.0959 - accuracy: 0.9652\n",
            "Epoch 171/500\n",
            "35/35 [==============================] - 0s 3ms/step - loss: 0.0931 - accuracy: 0.9634\n",
            "Epoch 172/500\n",
            "35/35 [==============================] - 0s 3ms/step - loss: 0.1128 - accuracy: 0.9536\n",
            "Epoch 173/500\n",
            "35/35 [==============================] - 0s 3ms/step - loss: 0.1091 - accuracy: 0.9554\n",
            "Epoch 174/500\n",
            "35/35 [==============================] - 0s 3ms/step - loss: 0.1000 - accuracy: 0.9571\n",
            "Epoch 175/500\n",
            "35/35 [==============================] - 0s 3ms/step - loss: 0.0841 - accuracy: 0.9688\n",
            "Epoch 176/500\n",
            "35/35 [==============================] - 0s 3ms/step - loss: 0.0915 - accuracy: 0.9705\n",
            "Epoch 177/500\n",
            "35/35 [==============================] - 0s 3ms/step - loss: 0.0935 - accuracy: 0.9625\n",
            "Epoch 178/500\n",
            "35/35 [==============================] - 0s 3ms/step - loss: 0.1654 - accuracy: 0.9446\n",
            "Epoch 179/500\n",
            "35/35 [==============================] - 0s 3ms/step - loss: 0.1108 - accuracy: 0.9563\n",
            "Epoch 180/500\n",
            "35/35 [==============================] - 0s 3ms/step - loss: 0.1070 - accuracy: 0.9634\n",
            "Epoch 181/500\n",
            "35/35 [==============================] - 0s 3ms/step - loss: 0.1072 - accuracy: 0.9571\n",
            "Epoch 182/500\n",
            "35/35 [==============================] - 0s 3ms/step - loss: 0.0983 - accuracy: 0.9616\n",
            "Epoch 183/500\n",
            "35/35 [==============================] - 0s 3ms/step - loss: 0.1059 - accuracy: 0.9598\n",
            "Epoch 184/500\n",
            "35/35 [==============================] - 0s 3ms/step - loss: 0.1009 - accuracy: 0.9554\n",
            "Epoch 185/500\n",
            "35/35 [==============================] - 0s 3ms/step - loss: 0.0954 - accuracy: 0.9643\n",
            "Epoch 186/500\n",
            "35/35 [==============================] - 0s 3ms/step - loss: 0.0913 - accuracy: 0.9616\n",
            "Epoch 187/500\n",
            "35/35 [==============================] - 0s 3ms/step - loss: 0.1058 - accuracy: 0.9563\n",
            "Epoch 188/500\n",
            "35/35 [==============================] - 0s 3ms/step - loss: 0.0967 - accuracy: 0.9607\n",
            "Epoch 189/500\n",
            "35/35 [==============================] - 0s 3ms/step - loss: 0.0958 - accuracy: 0.9616\n",
            "Epoch 190/500\n",
            "35/35 [==============================] - 0s 3ms/step - loss: 0.0882 - accuracy: 0.9705\n",
            "Epoch 191/500\n",
            "35/35 [==============================] - 0s 3ms/step - loss: 0.0947 - accuracy: 0.9643\n",
            "Epoch 192/500\n",
            "35/35 [==============================] - 0s 3ms/step - loss: 0.1072 - accuracy: 0.9554\n",
            "Epoch 193/500\n",
            "35/35 [==============================] - 0s 3ms/step - loss: 0.1074 - accuracy: 0.9509\n",
            "Epoch 194/500\n",
            "35/35 [==============================] - 0s 3ms/step - loss: 0.0911 - accuracy: 0.9634\n",
            "Epoch 195/500\n",
            "35/35 [==============================] - 0s 3ms/step - loss: 0.1099 - accuracy: 0.9554\n",
            "Epoch 196/500\n",
            "35/35 [==============================] - 0s 3ms/step - loss: 0.0996 - accuracy: 0.9643\n",
            "Epoch 197/500\n",
            "35/35 [==============================] - 0s 3ms/step - loss: 0.0947 - accuracy: 0.9634\n",
            "Epoch 198/500\n",
            "35/35 [==============================] - 0s 3ms/step - loss: 0.0882 - accuracy: 0.9580\n",
            "Epoch 199/500\n",
            "35/35 [==============================] - 0s 3ms/step - loss: 0.0807 - accuracy: 0.9670\n",
            "Epoch 200/500\n",
            "35/35 [==============================] - 0s 3ms/step - loss: 0.0777 - accuracy: 0.9696\n",
            "Epoch 201/500\n",
            "35/35 [==============================] - 0s 3ms/step - loss: 0.1134 - accuracy: 0.9536\n",
            "Epoch 202/500\n",
            "35/35 [==============================] - 0s 3ms/step - loss: 0.0954 - accuracy: 0.9652\n",
            "Epoch 203/500\n",
            "35/35 [==============================] - 0s 3ms/step - loss: 0.1038 - accuracy: 0.9652\n",
            "Epoch 204/500\n",
            "35/35 [==============================] - 0s 3ms/step - loss: 0.0891 - accuracy: 0.9679\n",
            "Epoch 205/500\n",
            "35/35 [==============================] - 0s 3ms/step - loss: 0.0901 - accuracy: 0.9688\n",
            "Epoch 206/500\n",
            "35/35 [==============================] - 0s 3ms/step - loss: 0.0961 - accuracy: 0.9563\n",
            "Epoch 207/500\n",
            "35/35 [==============================] - 0s 3ms/step - loss: 0.0964 - accuracy: 0.9580\n",
            "Epoch 208/500\n",
            "35/35 [==============================] - 0s 3ms/step - loss: 0.0971 - accuracy: 0.9571\n",
            "Epoch 209/500\n",
            "35/35 [==============================] - 0s 3ms/step - loss: 0.0877 - accuracy: 0.9679\n",
            "Epoch 210/500\n",
            "35/35 [==============================] - 0s 3ms/step - loss: 0.1059 - accuracy: 0.9589\n",
            "Epoch 211/500\n",
            "35/35 [==============================] - 0s 3ms/step - loss: 0.0942 - accuracy: 0.9598\n",
            "Epoch 212/500\n",
            "35/35 [==============================] - 0s 3ms/step - loss: 0.0905 - accuracy: 0.9652\n",
            "Epoch 213/500\n",
            "35/35 [==============================] - 0s 3ms/step - loss: 0.0975 - accuracy: 0.9598\n",
            "Epoch 214/500\n",
            "35/35 [==============================] - 0s 3ms/step - loss: 0.0922 - accuracy: 0.9670\n",
            "Epoch 215/500\n",
            "35/35 [==============================] - 0s 3ms/step - loss: 0.0835 - accuracy: 0.9705\n",
            "Epoch 216/500\n",
            "35/35 [==============================] - 0s 3ms/step - loss: 0.0974 - accuracy: 0.9670\n",
            "Epoch 217/500\n",
            "35/35 [==============================] - 0s 3ms/step - loss: 0.0889 - accuracy: 0.9643\n",
            "Epoch 218/500\n",
            "35/35 [==============================] - 0s 2ms/step - loss: 0.0926 - accuracy: 0.9589\n",
            "Epoch 219/500\n",
            "35/35 [==============================] - 0s 3ms/step - loss: 0.0932 - accuracy: 0.9634\n",
            "Epoch 220/500\n",
            "35/35 [==============================] - 0s 2ms/step - loss: 0.0898 - accuracy: 0.9643\n",
            "Epoch 221/500\n",
            "35/35 [==============================] - 0s 3ms/step - loss: 0.0870 - accuracy: 0.9625\n",
            "Epoch 222/500\n",
            "35/35 [==============================] - 0s 3ms/step - loss: 0.0859 - accuracy: 0.9661\n",
            "Epoch 223/500\n",
            "35/35 [==============================] - 0s 3ms/step - loss: 0.0819 - accuracy: 0.9652\n",
            "Epoch 224/500\n",
            "35/35 [==============================] - 0s 3ms/step - loss: 0.0892 - accuracy: 0.9571\n",
            "Epoch 225/500\n",
            "35/35 [==============================] - 0s 3ms/step - loss: 0.0810 - accuracy: 0.9679\n",
            "Epoch 226/500\n",
            "35/35 [==============================] - 0s 3ms/step - loss: 0.0781 - accuracy: 0.9723\n",
            "Epoch 227/500\n",
            "35/35 [==============================] - 0s 3ms/step - loss: 0.0927 - accuracy: 0.9589\n",
            "Epoch 228/500\n",
            "35/35 [==============================] - 0s 4ms/step - loss: 0.0903 - accuracy: 0.9661\n",
            "Epoch 229/500\n",
            "35/35 [==============================] - 0s 3ms/step - loss: 0.0813 - accuracy: 0.9670\n",
            "Epoch 230/500\n",
            "35/35 [==============================] - 0s 3ms/step - loss: 0.0828 - accuracy: 0.9705\n",
            "Epoch 231/500\n",
            "35/35 [==============================] - 0s 2ms/step - loss: 0.0894 - accuracy: 0.9625\n",
            "Epoch 232/500\n",
            "35/35 [==============================] - 0s 3ms/step - loss: 0.0920 - accuracy: 0.9643\n",
            "Epoch 233/500\n",
            "35/35 [==============================] - 0s 3ms/step - loss: 0.0820 - accuracy: 0.9705\n",
            "Epoch 234/500\n",
            "35/35 [==============================] - 0s 2ms/step - loss: 0.0778 - accuracy: 0.9732\n",
            "Epoch 235/500\n",
            "35/35 [==============================] - 0s 3ms/step - loss: 0.0746 - accuracy: 0.9679\n",
            "Epoch 236/500\n",
            "35/35 [==============================] - 0s 3ms/step - loss: 0.0840 - accuracy: 0.9732\n",
            "Epoch 237/500\n",
            "35/35 [==============================] - 0s 3ms/step - loss: 0.0888 - accuracy: 0.9634\n",
            "Epoch 238/500\n",
            "35/35 [==============================] - 0s 2ms/step - loss: 0.0807 - accuracy: 0.9652\n",
            "Epoch 239/500\n",
            "35/35 [==============================] - 0s 3ms/step - loss: 0.0783 - accuracy: 0.9688\n",
            "Epoch 240/500\n",
            "35/35 [==============================] - 0s 2ms/step - loss: 0.0839 - accuracy: 0.9652\n",
            "Epoch 241/500\n",
            "35/35 [==============================] - 0s 3ms/step - loss: 0.0892 - accuracy: 0.9661\n",
            "Epoch 242/500\n",
            "35/35 [==============================] - 0s 3ms/step - loss: 0.0909 - accuracy: 0.9598\n",
            "Epoch 243/500\n",
            "35/35 [==============================] - 0s 3ms/step - loss: 0.0911 - accuracy: 0.9634\n",
            "Epoch 244/500\n",
            "35/35 [==============================] - 0s 3ms/step - loss: 0.0895 - accuracy: 0.9580\n",
            "Epoch 245/500\n",
            "35/35 [==============================] - 0s 2ms/step - loss: 0.0791 - accuracy: 0.9643\n",
            "Epoch 246/500\n",
            "35/35 [==============================] - 0s 3ms/step - loss: 0.0822 - accuracy: 0.9652\n",
            "Epoch 247/500\n",
            "35/35 [==============================] - 0s 3ms/step - loss: 0.0832 - accuracy: 0.9679\n",
            "Epoch 248/500\n",
            "35/35 [==============================] - 0s 3ms/step - loss: 0.0770 - accuracy: 0.9705\n",
            "Epoch 249/500\n",
            "35/35 [==============================] - 0s 3ms/step - loss: 0.0751 - accuracy: 0.9705\n",
            "Epoch 250/500\n",
            "35/35 [==============================] - 0s 3ms/step - loss: 0.0866 - accuracy: 0.9652\n",
            "Epoch 251/500\n",
            "35/35 [==============================] - 0s 3ms/step - loss: 0.0908 - accuracy: 0.9625\n",
            "Epoch 252/500\n",
            "35/35 [==============================] - 0s 3ms/step - loss: 0.0801 - accuracy: 0.9696\n",
            "Epoch 253/500\n",
            "35/35 [==============================] - 0s 3ms/step - loss: 0.0768 - accuracy: 0.9670\n",
            "Epoch 254/500\n",
            "35/35 [==============================] - 0s 3ms/step - loss: 0.0779 - accuracy: 0.9679\n",
            "Epoch 255/500\n",
            "35/35 [==============================] - 0s 2ms/step - loss: 0.0664 - accuracy: 0.9705\n",
            "Epoch 256/500\n",
            "35/35 [==============================] - 0s 3ms/step - loss: 0.0854 - accuracy: 0.9643\n",
            "Epoch 257/500\n",
            "35/35 [==============================] - 0s 3ms/step - loss: 0.0727 - accuracy: 0.9723\n",
            "Epoch 258/500\n",
            "35/35 [==============================] - 0s 3ms/step - loss: 0.0728 - accuracy: 0.9705\n",
            "Epoch 259/500\n",
            "35/35 [==============================] - 0s 3ms/step - loss: 0.0744 - accuracy: 0.9661\n",
            "Epoch 260/500\n",
            "35/35 [==============================] - 0s 2ms/step - loss: 0.0775 - accuracy: 0.9705\n",
            "Epoch 261/500\n",
            "35/35 [==============================] - 0s 3ms/step - loss: 0.0873 - accuracy: 0.9661\n",
            "Epoch 262/500\n",
            "35/35 [==============================] - 0s 3ms/step - loss: 0.0682 - accuracy: 0.9714\n",
            "Epoch 263/500\n",
            "35/35 [==============================] - 0s 3ms/step - loss: 0.0816 - accuracy: 0.9652\n",
            "Epoch 264/500\n",
            "35/35 [==============================] - 0s 2ms/step - loss: 0.0793 - accuracy: 0.9696\n",
            "Epoch 265/500\n",
            "35/35 [==============================] - 0s 3ms/step - loss: 0.0706 - accuracy: 0.9732\n",
            "Epoch 266/500\n",
            "35/35 [==============================] - 0s 3ms/step - loss: 0.0672 - accuracy: 0.9705\n",
            "Epoch 267/500\n",
            "35/35 [==============================] - 0s 3ms/step - loss: 0.0895 - accuracy: 0.9670\n",
            "Epoch 268/500\n",
            "35/35 [==============================] - 0s 3ms/step - loss: 0.0851 - accuracy: 0.9661\n",
            "Epoch 269/500\n",
            "35/35 [==============================] - 0s 3ms/step - loss: 0.0766 - accuracy: 0.9670\n",
            "Epoch 270/500\n",
            "35/35 [==============================] - 0s 3ms/step - loss: 0.0654 - accuracy: 0.9696\n",
            "Epoch 271/500\n",
            "35/35 [==============================] - 0s 3ms/step - loss: 0.0742 - accuracy: 0.9670\n",
            "Epoch 272/500\n",
            "35/35 [==============================] - 0s 2ms/step - loss: 0.0789 - accuracy: 0.9643\n",
            "Epoch 273/500\n",
            "35/35 [==============================] - 0s 2ms/step - loss: 0.0762 - accuracy: 0.9741\n",
            "Epoch 274/500\n",
            "35/35 [==============================] - 0s 2ms/step - loss: 0.0725 - accuracy: 0.9696\n",
            "Epoch 275/500\n",
            "35/35 [==============================] - 0s 3ms/step - loss: 0.0823 - accuracy: 0.9670\n",
            "Epoch 276/500\n",
            "35/35 [==============================] - 0s 3ms/step - loss: 0.0783 - accuracy: 0.9688\n",
            "Epoch 277/500\n",
            "35/35 [==============================] - 0s 3ms/step - loss: 0.0742 - accuracy: 0.9714\n",
            "Epoch 278/500\n",
            "35/35 [==============================] - 0s 2ms/step - loss: 0.0782 - accuracy: 0.9688\n",
            "Epoch 279/500\n",
            "35/35 [==============================] - 0s 2ms/step - loss: 0.0839 - accuracy: 0.9652\n",
            "Epoch 280/500\n",
            "35/35 [==============================] - 0s 3ms/step - loss: 0.0752 - accuracy: 0.9741\n",
            "Epoch 281/500\n",
            "35/35 [==============================] - 0s 3ms/step - loss: 0.0853 - accuracy: 0.9696\n",
            "Epoch 282/500\n",
            "35/35 [==============================] - 0s 3ms/step - loss: 0.0711 - accuracy: 0.9652\n",
            "Epoch 283/500\n",
            "35/35 [==============================] - 0s 3ms/step - loss: 0.0801 - accuracy: 0.9696\n",
            "Epoch 284/500\n",
            "35/35 [==============================] - 0s 2ms/step - loss: 0.0774 - accuracy: 0.9643\n",
            "Epoch 285/500\n",
            "35/35 [==============================] - 0s 3ms/step - loss: 0.0756 - accuracy: 0.9705\n",
            "Epoch 286/500\n",
            "35/35 [==============================] - 0s 3ms/step - loss: 0.0789 - accuracy: 0.9696\n",
            "Epoch 287/500\n",
            "35/35 [==============================] - 0s 3ms/step - loss: 0.0770 - accuracy: 0.9696\n",
            "Epoch 288/500\n",
            "35/35 [==============================] - 0s 3ms/step - loss: 0.0697 - accuracy: 0.9714\n",
            "Epoch 289/500\n",
            "35/35 [==============================] - 0s 3ms/step - loss: 0.0875 - accuracy: 0.9625\n",
            "Epoch 290/500\n",
            "35/35 [==============================] - 0s 3ms/step - loss: 0.0694 - accuracy: 0.9777\n",
            "Epoch 291/500\n",
            "35/35 [==============================] - 0s 2ms/step - loss: 0.0680 - accuracy: 0.9705\n",
            "Epoch 292/500\n",
            "35/35 [==============================] - 0s 3ms/step - loss: 0.0719 - accuracy: 0.9705\n",
            "Epoch 293/500\n",
            "35/35 [==============================] - 0s 3ms/step - loss: 0.0785 - accuracy: 0.9652\n",
            "Epoch 294/500\n",
            "35/35 [==============================] - 0s 3ms/step - loss: 0.0609 - accuracy: 0.9786\n",
            "Epoch 295/500\n",
            "35/35 [==============================] - 0s 3ms/step - loss: 0.0739 - accuracy: 0.9741\n",
            "Epoch 296/500\n",
            "35/35 [==============================] - 0s 3ms/step - loss: 0.0756 - accuracy: 0.9714\n",
            "Epoch 297/500\n",
            "35/35 [==============================] - 0s 3ms/step - loss: 0.0593 - accuracy: 0.9759\n",
            "Epoch 298/500\n",
            "35/35 [==============================] - 0s 2ms/step - loss: 0.0701 - accuracy: 0.9714\n",
            "Epoch 299/500\n",
            "35/35 [==============================] - 0s 3ms/step - loss: 0.0637 - accuracy: 0.9741\n",
            "Epoch 300/500\n",
            "35/35 [==============================] - 0s 3ms/step - loss: 0.0637 - accuracy: 0.9795\n",
            "Epoch 301/500\n",
            "35/35 [==============================] - 0s 3ms/step - loss: 0.0709 - accuracy: 0.9741\n",
            "Epoch 302/500\n",
            "35/35 [==============================] - 0s 3ms/step - loss: 0.0733 - accuracy: 0.9723\n",
            "Epoch 303/500\n",
            "35/35 [==============================] - 0s 3ms/step - loss: 0.0660 - accuracy: 0.9696\n",
            "Epoch 304/500\n",
            "35/35 [==============================] - 0s 3ms/step - loss: 0.0693 - accuracy: 0.9714\n",
            "Epoch 305/500\n",
            "35/35 [==============================] - 0s 3ms/step - loss: 0.0813 - accuracy: 0.9634\n",
            "Epoch 306/500\n",
            "35/35 [==============================] - 0s 3ms/step - loss: 0.0645 - accuracy: 0.9732\n",
            "Epoch 307/500\n",
            "35/35 [==============================] - 0s 3ms/step - loss: 0.0587 - accuracy: 0.9732\n",
            "Epoch 308/500\n",
            "35/35 [==============================] - 0s 3ms/step - loss: 0.0776 - accuracy: 0.9688\n",
            "Epoch 309/500\n",
            "35/35 [==============================] - 0s 3ms/step - loss: 0.0732 - accuracy: 0.9696\n",
            "Epoch 310/500\n",
            "35/35 [==============================] - 0s 2ms/step - loss: 0.0666 - accuracy: 0.9732\n",
            "Epoch 311/500\n",
            "35/35 [==============================] - 0s 3ms/step - loss: 0.0678 - accuracy: 0.9670\n",
            "Epoch 312/500\n",
            "35/35 [==============================] - 0s 2ms/step - loss: 0.0761 - accuracy: 0.9679\n",
            "Epoch 313/500\n",
            "35/35 [==============================] - 0s 3ms/step - loss: 0.0647 - accuracy: 0.9714\n",
            "Epoch 314/500\n",
            "35/35 [==============================] - 0s 3ms/step - loss: 0.0780 - accuracy: 0.9643\n",
            "Epoch 315/500\n",
            "35/35 [==============================] - 0s 3ms/step - loss: 0.0654 - accuracy: 0.9723\n",
            "Epoch 316/500\n",
            "35/35 [==============================] - 0s 2ms/step - loss: 0.0690 - accuracy: 0.9705\n",
            "Epoch 317/500\n",
            "35/35 [==============================] - 0s 3ms/step - loss: 0.0628 - accuracy: 0.9705\n",
            "Epoch 318/500\n",
            "35/35 [==============================] - 0s 3ms/step - loss: 0.0595 - accuracy: 0.9768\n",
            "Epoch 319/500\n",
            "35/35 [==============================] - 0s 3ms/step - loss: 0.0577 - accuracy: 0.9812\n",
            "Epoch 320/500\n",
            "35/35 [==============================] - 0s 3ms/step - loss: 0.0575 - accuracy: 0.9759\n",
            "Epoch 321/500\n",
            "35/35 [==============================] - 0s 3ms/step - loss: 0.0709 - accuracy: 0.9670\n",
            "Epoch 322/500\n",
            "35/35 [==============================] - 0s 3ms/step - loss: 0.0671 - accuracy: 0.9732\n",
            "Epoch 323/500\n",
            "35/35 [==============================] - 0s 3ms/step - loss: 0.0708 - accuracy: 0.9661\n",
            "Epoch 324/500\n",
            "35/35 [==============================] - 0s 2ms/step - loss: 0.0594 - accuracy: 0.9696\n",
            "Epoch 325/500\n",
            "35/35 [==============================] - 0s 3ms/step - loss: 0.0723 - accuracy: 0.9741\n",
            "Epoch 326/500\n",
            "35/35 [==============================] - 0s 3ms/step - loss: 0.0761 - accuracy: 0.9696\n",
            "Epoch 327/500\n",
            "35/35 [==============================] - 0s 3ms/step - loss: 0.0673 - accuracy: 0.9732\n",
            "Epoch 328/500\n",
            "35/35 [==============================] - 0s 3ms/step - loss: 0.0696 - accuracy: 0.9714\n",
            "Epoch 329/500\n",
            "35/35 [==============================] - 0s 3ms/step - loss: 0.0647 - accuracy: 0.9723\n",
            "Epoch 330/500\n",
            "35/35 [==============================] - 0s 3ms/step - loss: 0.1244 - accuracy: 0.9714\n",
            "Epoch 331/500\n",
            "35/35 [==============================] - 0s 3ms/step - loss: 0.0677 - accuracy: 0.9705\n",
            "Epoch 332/500\n",
            "35/35 [==============================] - 0s 2ms/step - loss: 0.0577 - accuracy: 0.9768\n",
            "Epoch 333/500\n",
            "35/35 [==============================] - 0s 3ms/step - loss: 0.0753 - accuracy: 0.9696\n",
            "Epoch 334/500\n",
            "35/35 [==============================] - 0s 3ms/step - loss: 0.0756 - accuracy: 0.9652\n",
            "Epoch 335/500\n",
            "35/35 [==============================] - 0s 3ms/step - loss: 0.0644 - accuracy: 0.9732\n",
            "Epoch 336/500\n",
            "35/35 [==============================] - 0s 3ms/step - loss: 0.0743 - accuracy: 0.9688\n",
            "Epoch 337/500\n",
            "35/35 [==============================] - 0s 3ms/step - loss: 0.0590 - accuracy: 0.9741\n",
            "Epoch 338/500\n",
            "35/35 [==============================] - 0s 3ms/step - loss: 0.0655 - accuracy: 0.9768\n",
            "Epoch 339/500\n",
            "35/35 [==============================] - 0s 3ms/step - loss: 0.0562 - accuracy: 0.9741\n",
            "Epoch 340/500\n",
            "35/35 [==============================] - 0s 3ms/step - loss: 0.0619 - accuracy: 0.9741\n",
            "Epoch 341/500\n",
            "35/35 [==============================] - 0s 3ms/step - loss: 0.0628 - accuracy: 0.9768\n",
            "Epoch 342/500\n",
            "35/35 [==============================] - 0s 3ms/step - loss: 0.0547 - accuracy: 0.9786\n",
            "Epoch 343/500\n",
            "35/35 [==============================] - 0s 3ms/step - loss: 0.0722 - accuracy: 0.9696\n",
            "Epoch 344/500\n",
            "35/35 [==============================] - 0s 2ms/step - loss: 0.0567 - accuracy: 0.9750\n",
            "Epoch 345/500\n",
            "35/35 [==============================] - 0s 3ms/step - loss: 0.0789 - accuracy: 0.9670\n",
            "Epoch 346/500\n",
            "35/35 [==============================] - 0s 3ms/step - loss: 0.0786 - accuracy: 0.9643\n",
            "Epoch 347/500\n",
            "35/35 [==============================] - 0s 3ms/step - loss: 0.0652 - accuracy: 0.9714\n",
            "Epoch 348/500\n",
            "35/35 [==============================] - 0s 3ms/step - loss: 0.0579 - accuracy: 0.9768\n",
            "Epoch 349/500\n",
            "35/35 [==============================] - 0s 3ms/step - loss: 0.0604 - accuracy: 0.9777\n",
            "Epoch 350/500\n",
            "35/35 [==============================] - 0s 3ms/step - loss: 0.0703 - accuracy: 0.9732\n",
            "Epoch 351/500\n",
            "35/35 [==============================] - 0s 3ms/step - loss: 0.0714 - accuracy: 0.9670\n",
            "Epoch 352/500\n",
            "35/35 [==============================] - 0s 3ms/step - loss: 0.0575 - accuracy: 0.9812\n",
            "Epoch 353/500\n",
            "35/35 [==============================] - 0s 3ms/step - loss: 0.0570 - accuracy: 0.9714\n",
            "Epoch 354/500\n",
            "35/35 [==============================] - 0s 3ms/step - loss: 0.0630 - accuracy: 0.9759\n",
            "Epoch 355/500\n",
            "35/35 [==============================] - 0s 3ms/step - loss: 0.0565 - accuracy: 0.9768\n",
            "Epoch 356/500\n",
            "35/35 [==============================] - 0s 3ms/step - loss: 0.0553 - accuracy: 0.9732\n",
            "Epoch 357/500\n",
            "35/35 [==============================] - 0s 3ms/step - loss: 0.0687 - accuracy: 0.9688\n",
            "Epoch 358/500\n",
            "35/35 [==============================] - 0s 3ms/step - loss: 0.0615 - accuracy: 0.9759\n",
            "Epoch 359/500\n",
            "35/35 [==============================] - 0s 3ms/step - loss: 0.0698 - accuracy: 0.9634\n",
            "Epoch 360/500\n",
            "35/35 [==============================] - 0s 3ms/step - loss: 0.0621 - accuracy: 0.9732\n",
            "Epoch 361/500\n",
            "35/35 [==============================] - 0s 3ms/step - loss: 0.0585 - accuracy: 0.9741\n",
            "Epoch 362/500\n",
            "35/35 [==============================] - 0s 3ms/step - loss: 0.0738 - accuracy: 0.9732\n",
            "Epoch 363/500\n",
            "35/35 [==============================] - 0s 3ms/step - loss: 0.0570 - accuracy: 0.9741\n",
            "Epoch 364/500\n",
            "35/35 [==============================] - 0s 3ms/step - loss: 0.0561 - accuracy: 0.9812\n",
            "Epoch 365/500\n",
            "35/35 [==============================] - 0s 3ms/step - loss: 0.0649 - accuracy: 0.9732\n",
            "Epoch 366/500\n",
            "35/35 [==============================] - 0s 3ms/step - loss: 0.0571 - accuracy: 0.9705\n",
            "Epoch 367/500\n",
            "35/35 [==============================] - 0s 3ms/step - loss: 0.0555 - accuracy: 0.9786\n",
            "Epoch 368/500\n",
            "35/35 [==============================] - 0s 3ms/step - loss: 0.0589 - accuracy: 0.9705\n",
            "Epoch 369/500\n",
            "35/35 [==============================] - 0s 3ms/step - loss: 0.0637 - accuracy: 0.9741\n",
            "Epoch 370/500\n",
            "35/35 [==============================] - 0s 3ms/step - loss: 0.0617 - accuracy: 0.9679\n",
            "Epoch 371/500\n",
            "35/35 [==============================] - 0s 3ms/step - loss: 0.0533 - accuracy: 0.9759\n",
            "Epoch 372/500\n",
            "35/35 [==============================] - 0s 3ms/step - loss: 0.0602 - accuracy: 0.9741\n",
            "Epoch 373/500\n",
            "35/35 [==============================] - 0s 3ms/step - loss: 0.0516 - accuracy: 0.9768\n",
            "Epoch 374/500\n",
            "35/35 [==============================] - 0s 3ms/step - loss: 0.0647 - accuracy: 0.9750\n",
            "Epoch 375/500\n",
            "35/35 [==============================] - 0s 3ms/step - loss: 0.0575 - accuracy: 0.9723\n",
            "Epoch 376/500\n",
            "35/35 [==============================] - 0s 3ms/step - loss: 0.0535 - accuracy: 0.9741\n",
            "Epoch 377/500\n",
            "35/35 [==============================] - 0s 3ms/step - loss: 0.0603 - accuracy: 0.9759\n",
            "Epoch 378/500\n",
            "35/35 [==============================] - 0s 3ms/step - loss: 0.0689 - accuracy: 0.9714\n",
            "Epoch 379/500\n",
            "35/35 [==============================] - 0s 3ms/step - loss: 0.0601 - accuracy: 0.9759\n",
            "Epoch 380/500\n",
            "35/35 [==============================] - 0s 3ms/step - loss: 0.0627 - accuracy: 0.9723\n",
            "Epoch 381/500\n",
            "35/35 [==============================] - 0s 3ms/step - loss: 0.0642 - accuracy: 0.9750\n",
            "Epoch 382/500\n",
            "35/35 [==============================] - 0s 3ms/step - loss: 0.0531 - accuracy: 0.9795\n",
            "Epoch 383/500\n",
            "35/35 [==============================] - 0s 3ms/step - loss: 0.0541 - accuracy: 0.9777\n",
            "Epoch 384/500\n",
            "35/35 [==============================] - 0s 3ms/step - loss: 0.0608 - accuracy: 0.9732\n",
            "Epoch 385/500\n",
            "35/35 [==============================] - 0s 3ms/step - loss: 0.0505 - accuracy: 0.9786\n",
            "Epoch 386/500\n",
            "35/35 [==============================] - 0s 3ms/step - loss: 0.0576 - accuracy: 0.9759\n",
            "Epoch 387/500\n",
            "35/35 [==============================] - 0s 3ms/step - loss: 0.0605 - accuracy: 0.9768\n",
            "Epoch 388/500\n",
            "35/35 [==============================] - 0s 3ms/step - loss: 0.0574 - accuracy: 0.9768\n",
            "Epoch 389/500\n",
            "35/35 [==============================] - 0s 3ms/step - loss: 0.0637 - accuracy: 0.9759\n",
            "Epoch 390/500\n",
            "35/35 [==============================] - 0s 3ms/step - loss: 0.0646 - accuracy: 0.9723\n",
            "Epoch 391/500\n",
            "35/35 [==============================] - 0s 3ms/step - loss: 0.0591 - accuracy: 0.9732\n",
            "Epoch 392/500\n",
            "35/35 [==============================] - 0s 3ms/step - loss: 0.0675 - accuracy: 0.9723\n",
            "Epoch 393/500\n",
            "35/35 [==============================] - 0s 3ms/step - loss: 0.0617 - accuracy: 0.9732\n",
            "Epoch 394/500\n",
            "35/35 [==============================] - 0s 3ms/step - loss: 0.0597 - accuracy: 0.9768\n",
            "Epoch 395/500\n",
            "35/35 [==============================] - 0s 3ms/step - loss: 0.0577 - accuracy: 0.9741\n",
            "Epoch 396/500\n",
            "35/35 [==============================] - 0s 3ms/step - loss: 0.0602 - accuracy: 0.9750\n",
            "Epoch 397/500\n",
            "35/35 [==============================] - 0s 3ms/step - loss: 0.0628 - accuracy: 0.9741\n",
            "Epoch 398/500\n",
            "35/35 [==============================] - 0s 3ms/step - loss: 0.0571 - accuracy: 0.9714\n",
            "Epoch 399/500\n",
            "35/35 [==============================] - 0s 3ms/step - loss: 0.0600 - accuracy: 0.9732\n",
            "Epoch 400/500\n",
            "35/35 [==============================] - 0s 3ms/step - loss: 0.0623 - accuracy: 0.9732\n",
            "Epoch 401/500\n",
            "35/35 [==============================] - 0s 3ms/step - loss: 0.0566 - accuracy: 0.9750\n",
            "Epoch 402/500\n",
            "35/35 [==============================] - 0s 3ms/step - loss: 0.0503 - accuracy: 0.9786\n",
            "Epoch 403/500\n",
            "35/35 [==============================] - 0s 3ms/step - loss: 0.0592 - accuracy: 0.9750\n",
            "Epoch 404/500\n",
            "35/35 [==============================] - 0s 3ms/step - loss: 0.0569 - accuracy: 0.9741\n",
            "Epoch 405/500\n",
            "35/35 [==============================] - 0s 3ms/step - loss: 0.0627 - accuracy: 0.9723\n",
            "Epoch 406/500\n",
            "35/35 [==============================] - 0s 3ms/step - loss: 0.0558 - accuracy: 0.9777\n",
            "Epoch 407/500\n",
            "35/35 [==============================] - 0s 3ms/step - loss: 0.0628 - accuracy: 0.9714\n",
            "Epoch 408/500\n",
            "35/35 [==============================] - 0s 3ms/step - loss: 0.0598 - accuracy: 0.9812\n",
            "Epoch 409/500\n",
            "35/35 [==============================] - 0s 3ms/step - loss: 0.0674 - accuracy: 0.9696\n",
            "Epoch 410/500\n",
            "35/35 [==============================] - 0s 3ms/step - loss: 0.0572 - accuracy: 0.9723\n",
            "Epoch 411/500\n",
            "35/35 [==============================] - 0s 3ms/step - loss: 0.0543 - accuracy: 0.9795\n",
            "Epoch 412/500\n",
            "35/35 [==============================] - 0s 3ms/step - loss: 0.0575 - accuracy: 0.9759\n",
            "Epoch 413/500\n",
            "35/35 [==============================] - 0s 3ms/step - loss: 0.0544 - accuracy: 0.9750\n",
            "Epoch 414/500\n",
            "35/35 [==============================] - 0s 3ms/step - loss: 0.0623 - accuracy: 0.9688\n",
            "Epoch 415/500\n",
            "35/35 [==============================] - 0s 3ms/step - loss: 0.0592 - accuracy: 0.9768\n",
            "Epoch 416/500\n",
            "35/35 [==============================] - 0s 3ms/step - loss: 0.0567 - accuracy: 0.9759\n",
            "Epoch 417/500\n",
            "35/35 [==============================] - 0s 3ms/step - loss: 0.0728 - accuracy: 0.9679\n",
            "Epoch 418/500\n",
            "35/35 [==============================] - 0s 3ms/step - loss: 0.0515 - accuracy: 0.9750\n",
            "Epoch 419/500\n",
            "35/35 [==============================] - 0s 3ms/step - loss: 0.0600 - accuracy: 0.9705\n",
            "Epoch 420/500\n",
            "35/35 [==============================] - 0s 3ms/step - loss: 0.0508 - accuracy: 0.9759\n",
            "Epoch 421/500\n",
            "35/35 [==============================] - 0s 3ms/step - loss: 0.0549 - accuracy: 0.9714\n",
            "Epoch 422/500\n",
            "35/35 [==============================] - 0s 3ms/step - loss: 0.0566 - accuracy: 0.9759\n",
            "Epoch 423/500\n",
            "35/35 [==============================] - 0s 3ms/step - loss: 0.0493 - accuracy: 0.9786\n",
            "Epoch 424/500\n",
            "35/35 [==============================] - 0s 3ms/step - loss: 0.0574 - accuracy: 0.9759\n",
            "Epoch 425/500\n",
            "35/35 [==============================] - 0s 3ms/step - loss: 0.0638 - accuracy: 0.9750\n",
            "Epoch 426/500\n",
            "35/35 [==============================] - 0s 3ms/step - loss: 0.0589 - accuracy: 0.9768\n",
            "Epoch 427/500\n",
            "35/35 [==============================] - 0s 3ms/step - loss: 0.0535 - accuracy: 0.9777\n",
            "Epoch 428/500\n",
            "35/35 [==============================] - 0s 3ms/step - loss: 0.0487 - accuracy: 0.9750\n",
            "Epoch 429/500\n",
            "35/35 [==============================] - 0s 3ms/step - loss: 0.0528 - accuracy: 0.9786\n",
            "Epoch 430/500\n",
            "35/35 [==============================] - 0s 3ms/step - loss: 0.0588 - accuracy: 0.9750\n",
            "Epoch 431/500\n",
            "35/35 [==============================] - 0s 3ms/step - loss: 0.0566 - accuracy: 0.9741\n",
            "Epoch 432/500\n",
            "35/35 [==============================] - 0s 3ms/step - loss: 0.0572 - accuracy: 0.9786\n",
            "Epoch 433/500\n",
            "35/35 [==============================] - 0s 3ms/step - loss: 0.0563 - accuracy: 0.9759\n",
            "Epoch 434/500\n",
            "35/35 [==============================] - 0s 3ms/step - loss: 0.0600 - accuracy: 0.9741\n",
            "Epoch 435/500\n",
            "35/35 [==============================] - 0s 3ms/step - loss: 0.0654 - accuracy: 0.9741\n",
            "Epoch 436/500\n",
            "35/35 [==============================] - 0s 3ms/step - loss: 0.0542 - accuracy: 0.9786\n",
            "Epoch 437/500\n",
            "35/35 [==============================] - 0s 3ms/step - loss: 0.0691 - accuracy: 0.9723\n",
            "Epoch 438/500\n",
            "35/35 [==============================] - 0s 3ms/step - loss: 0.0618 - accuracy: 0.9759\n",
            "Epoch 439/500\n",
            "35/35 [==============================] - 0s 3ms/step - loss: 0.0566 - accuracy: 0.9723\n",
            "Epoch 440/500\n",
            "35/35 [==============================] - 0s 3ms/step - loss: 0.0633 - accuracy: 0.9723\n",
            "Epoch 441/500\n",
            "35/35 [==============================] - 0s 3ms/step - loss: 0.0692 - accuracy: 0.9741\n",
            "Epoch 442/500\n",
            "35/35 [==============================] - 0s 3ms/step - loss: 0.0559 - accuracy: 0.9741\n",
            "Epoch 443/500\n",
            "35/35 [==============================] - 0s 3ms/step - loss: 0.0557 - accuracy: 0.9777\n",
            "Epoch 444/500\n",
            "35/35 [==============================] - 0s 3ms/step - loss: 0.0554 - accuracy: 0.9777\n",
            "Epoch 445/500\n",
            "35/35 [==============================] - 0s 3ms/step - loss: 0.2597 - accuracy: 0.9750\n",
            "Epoch 446/500\n",
            "35/35 [==============================] - 0s 3ms/step - loss: 0.0554 - accuracy: 0.9750\n",
            "Epoch 447/500\n",
            "35/35 [==============================] - 0s 3ms/step - loss: 0.0502 - accuracy: 0.9768\n",
            "Epoch 448/500\n",
            "35/35 [==============================] - 0s 3ms/step - loss: 0.0510 - accuracy: 0.9759\n",
            "Epoch 449/500\n",
            "35/35 [==============================] - 0s 3ms/step - loss: 0.0599 - accuracy: 0.9723\n",
            "Epoch 450/500\n",
            "35/35 [==============================] - 0s 3ms/step - loss: 0.0571 - accuracy: 0.9759\n",
            "Epoch 451/500\n",
            "35/35 [==============================] - 0s 3ms/step - loss: 0.0599 - accuracy: 0.9741\n",
            "Epoch 452/500\n",
            "35/35 [==============================] - 0s 2ms/step - loss: 0.0478 - accuracy: 0.9795\n",
            "Epoch 453/500\n",
            "35/35 [==============================] - 0s 3ms/step - loss: 0.0521 - accuracy: 0.9777\n",
            "Epoch 454/500\n",
            "35/35 [==============================] - 0s 3ms/step - loss: 0.0483 - accuracy: 0.9750\n",
            "Epoch 455/500\n",
            "35/35 [==============================] - 0s 3ms/step - loss: 0.0562 - accuracy: 0.9750\n",
            "Epoch 456/500\n",
            "35/35 [==============================] - 0s 3ms/step - loss: 0.0455 - accuracy: 0.9768\n",
            "Epoch 457/500\n",
            "35/35 [==============================] - 0s 3ms/step - loss: 0.0448 - accuracy: 0.9821\n",
            "Epoch 458/500\n",
            "35/35 [==============================] - 0s 3ms/step - loss: 0.0454 - accuracy: 0.9804\n",
            "Epoch 459/500\n",
            "35/35 [==============================] - 0s 3ms/step - loss: 0.0418 - accuracy: 0.9875\n",
            "Epoch 460/500\n",
            "35/35 [==============================] - 0s 2ms/step - loss: 0.0500 - accuracy: 0.9795\n",
            "Epoch 461/500\n",
            "35/35 [==============================] - 0s 3ms/step - loss: 0.1526 - accuracy: 0.9705\n",
            "Epoch 462/500\n",
            "35/35 [==============================] - 0s 3ms/step - loss: 0.0705 - accuracy: 0.9688\n",
            "Epoch 463/500\n",
            "35/35 [==============================] - 0s 3ms/step - loss: 0.0519 - accuracy: 0.9741\n",
            "Epoch 464/500\n",
            "35/35 [==============================] - 0s 3ms/step - loss: 0.0510 - accuracy: 0.9777\n",
            "Epoch 465/500\n",
            "35/35 [==============================] - 0s 3ms/step - loss: 0.0539 - accuracy: 0.9786\n",
            "Epoch 466/500\n",
            "35/35 [==============================] - 0s 3ms/step - loss: 0.0490 - accuracy: 0.9786\n",
            "Epoch 467/500\n",
            "35/35 [==============================] - 0s 3ms/step - loss: 0.0544 - accuracy: 0.9741\n",
            "Epoch 468/500\n",
            "35/35 [==============================] - 0s 2ms/step - loss: 0.0519 - accuracy: 0.9795\n",
            "Epoch 469/500\n",
            "35/35 [==============================] - 0s 3ms/step - loss: 0.0519 - accuracy: 0.9750\n",
            "Epoch 470/500\n",
            "35/35 [==============================] - 0s 3ms/step - loss: 0.0583 - accuracy: 0.9777\n",
            "Epoch 471/500\n",
            "35/35 [==============================] - 0s 3ms/step - loss: 0.0523 - accuracy: 0.9768\n",
            "Epoch 472/500\n",
            "35/35 [==============================] - 0s 3ms/step - loss: 0.0450 - accuracy: 0.9821\n",
            "Epoch 473/500\n",
            "35/35 [==============================] - 0s 3ms/step - loss: 0.0575 - accuracy: 0.9732\n",
            "Epoch 474/500\n",
            "35/35 [==============================] - 0s 3ms/step - loss: 0.0547 - accuracy: 0.9759\n",
            "Epoch 475/500\n",
            "35/35 [==============================] - 0s 3ms/step - loss: 0.0544 - accuracy: 0.9759\n",
            "Epoch 476/500\n",
            "35/35 [==============================] - 0s 3ms/step - loss: 0.0488 - accuracy: 0.9795\n",
            "Epoch 477/500\n",
            "35/35 [==============================] - 0s 3ms/step - loss: 0.0466 - accuracy: 0.9795\n",
            "Epoch 478/500\n",
            "35/35 [==============================] - 0s 3ms/step - loss: 0.0519 - accuracy: 0.9777\n",
            "Epoch 479/500\n",
            "35/35 [==============================] - 0s 3ms/step - loss: 0.0472 - accuracy: 0.9768\n",
            "Epoch 480/500\n",
            "35/35 [==============================] - 0s 3ms/step - loss: 0.0563 - accuracy: 0.9732\n",
            "Epoch 481/500\n",
            "35/35 [==============================] - 0s 3ms/step - loss: 0.0456 - accuracy: 0.9821\n",
            "Epoch 482/500\n",
            "35/35 [==============================] - 0s 3ms/step - loss: 0.0488 - accuracy: 0.9786\n",
            "Epoch 483/500\n",
            "35/35 [==============================] - 0s 3ms/step - loss: 0.0530 - accuracy: 0.9795\n",
            "Epoch 484/500\n",
            "35/35 [==============================] - 0s 3ms/step - loss: 0.0455 - accuracy: 0.9839\n",
            "Epoch 485/500\n",
            "35/35 [==============================] - 0s 3ms/step - loss: 0.0465 - accuracy: 0.9786\n",
            "Epoch 486/500\n",
            "35/35 [==============================] - 0s 3ms/step - loss: 0.0449 - accuracy: 0.9795\n",
            "Epoch 487/500\n",
            "35/35 [==============================] - 0s 3ms/step - loss: 0.0426 - accuracy: 0.9795\n",
            "Epoch 488/500\n",
            "35/35 [==============================] - 0s 3ms/step - loss: 0.0444 - accuracy: 0.9786\n",
            "Epoch 489/500\n",
            "35/35 [==============================] - 0s 3ms/step - loss: 0.0465 - accuracy: 0.9812\n",
            "Epoch 490/500\n",
            "35/35 [==============================] - 0s 3ms/step - loss: 0.0518 - accuracy: 0.9768\n",
            "Epoch 491/500\n",
            "35/35 [==============================] - 0s 3ms/step - loss: 0.0361 - accuracy: 0.9866\n",
            "Epoch 492/500\n",
            "35/35 [==============================] - 0s 3ms/step - loss: 0.0575 - accuracy: 0.9705\n",
            "Epoch 493/500\n",
            "35/35 [==============================] - 0s 3ms/step - loss: 0.0565 - accuracy: 0.9723\n",
            "Epoch 494/500\n",
            "35/35 [==============================] - 0s 3ms/step - loss: 0.0518 - accuracy: 0.9795\n",
            "Epoch 495/500\n",
            "35/35 [==============================] - 0s 3ms/step - loss: 0.0527 - accuracy: 0.9732\n",
            "Epoch 496/500\n",
            "35/35 [==============================] - 0s 3ms/step - loss: 0.0473 - accuracy: 0.9750\n",
            "Epoch 497/500\n",
            "35/35 [==============================] - 0s 3ms/step - loss: 0.0441 - accuracy: 0.9759\n",
            "Epoch 498/500\n",
            "35/35 [==============================] - 0s 3ms/step - loss: 0.0482 - accuracy: 0.9812\n",
            "Epoch 499/500\n",
            "35/35 [==============================] - 0s 3ms/step - loss: 0.0625 - accuracy: 0.9670\n",
            "Epoch 500/500\n",
            "35/35 [==============================] - 0s 3ms/step - loss: 0.0493 - accuracy: 0.9786\n"
          ],
          "name": "stdout"
        },
        {
          "output_type": "execute_result",
          "data": {
            "text/plain": [
              "<tensorflow.python.keras.callbacks.History at 0x7f12080a9828>"
            ]
          },
          "metadata": {
            "tags": []
          },
          "execution_count": 52
        }
      ]
    },
    {
      "cell_type": "code",
      "metadata": {
        "id": "lxTdWS92q0y_",
        "outputId": "0f3affad-a1f4-4cac-cec9-566f9d23bd4d",
        "colab": {
          "base_uri": "https://localhost:8080/"
        }
      },
      "source": [
        "# model evaluation\n",
        "loss, accuracy = classifier.evaluate(X_test, y_test)\n",
        "print('ANN Accuracy:', accuracy)\n"
      ],
      "execution_count": 54,
      "outputs": [
        {
          "output_type": "stream",
          "text": [
            "7/7 [==============================] - 0s 2ms/step - loss: 1.9983 - accuracy: 0.6550\n",
            "ANN Accuracy: 0.6549999713897705\n"
          ],
          "name": "stdout"
        }
      ]
    },
    {
      "cell_type": "markdown",
      "metadata": {
        "id": "xhwDEj0CutaO"
      },
      "source": [
        "#### LOGISTIC REGRESSION OUTPERFORMS ALL OTHER MODELS THATS WHY ITS MOSTLY USED!"
      ]
    },
    {
      "cell_type": "code",
      "metadata": {
        "id": "x_GSFWTot8KG"
      },
      "source": [
        ""
      ],
      "execution_count": 57,
      "outputs": []
    }
  ]
}